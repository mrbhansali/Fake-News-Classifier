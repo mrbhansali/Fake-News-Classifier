{
  "cells": [
    {
      "cell_type": "code",
      "execution_count": 9,
      "id": "9736f095-9592-4fd4-9543-8c658217b7f8",
      "metadata": {
        "id": "9736f095-9592-4fd4-9543-8c658217b7f8"
      },
      "outputs": [],
      "source": [
        "import pandas as pd\n",
        "import matplotlib.pyplot as plt\n",
        "import seaborn as sns\n",
        "from sklearn.model_selection import train_test_split\n",
        "\n",
        "from sklearn.feature_extraction.text import CountVectorizer, TfidfVectorizer"
      ]
    },
    {
      "cell_type": "code",
      "source": [
        "from google.colab import files\n",
        "\n",
        "uploaded = files.upload()"
      ],
      "metadata": {
        "colab": {
          "base_uri": "https://localhost:8080/",
          "height": 73
        },
        "id": "-9YjRUmEnQor",
        "outputId": "e30c177f-1827-41f4-98ba-5607849cc907"
      },
      "id": "-9YjRUmEnQor",
      "execution_count": 10,
      "outputs": [
        {
          "output_type": "display_data",
          "data": {
            "text/plain": [
              "<IPython.core.display.HTML object>"
            ],
            "text/html": [
              "\n",
              "     <input type=\"file\" id=\"files-103e0b2a-c78f-494d-b1e9-74de50052007\" name=\"files[]\" multiple disabled\n",
              "        style=\"border:none\" />\n",
              "     <output id=\"result-103e0b2a-c78f-494d-b1e9-74de50052007\">\n",
              "      Upload widget is only available when the cell has been executed in the\n",
              "      current browser session. Please rerun this cell to enable.\n",
              "      </output>\n",
              "      <script>// Copyright 2017 Google LLC\n",
              "//\n",
              "// Licensed under the Apache License, Version 2.0 (the \"License\");\n",
              "// you may not use this file except in compliance with the License.\n",
              "// You may obtain a copy of the License at\n",
              "//\n",
              "//      http://www.apache.org/licenses/LICENSE-2.0\n",
              "//\n",
              "// Unless required by applicable law or agreed to in writing, software\n",
              "// distributed under the License is distributed on an \"AS IS\" BASIS,\n",
              "// WITHOUT WARRANTIES OR CONDITIONS OF ANY KIND, either express or implied.\n",
              "// See the License for the specific language governing permissions and\n",
              "// limitations under the License.\n",
              "\n",
              "/**\n",
              " * @fileoverview Helpers for google.colab Python module.\n",
              " */\n",
              "(function(scope) {\n",
              "function span(text, styleAttributes = {}) {\n",
              "  const element = document.createElement('span');\n",
              "  element.textContent = text;\n",
              "  for (const key of Object.keys(styleAttributes)) {\n",
              "    element.style[key] = styleAttributes[key];\n",
              "  }\n",
              "  return element;\n",
              "}\n",
              "\n",
              "// Max number of bytes which will be uploaded at a time.\n",
              "const MAX_PAYLOAD_SIZE = 100 * 1024;\n",
              "\n",
              "function _uploadFiles(inputId, outputId) {\n",
              "  const steps = uploadFilesStep(inputId, outputId);\n",
              "  const outputElement = document.getElementById(outputId);\n",
              "  // Cache steps on the outputElement to make it available for the next call\n",
              "  // to uploadFilesContinue from Python.\n",
              "  outputElement.steps = steps;\n",
              "\n",
              "  return _uploadFilesContinue(outputId);\n",
              "}\n",
              "\n",
              "// This is roughly an async generator (not supported in the browser yet),\n",
              "// where there are multiple asynchronous steps and the Python side is going\n",
              "// to poll for completion of each step.\n",
              "// This uses a Promise to block the python side on completion of each step,\n",
              "// then passes the result of the previous step as the input to the next step.\n",
              "function _uploadFilesContinue(outputId) {\n",
              "  const outputElement = document.getElementById(outputId);\n",
              "  const steps = outputElement.steps;\n",
              "\n",
              "  const next = steps.next(outputElement.lastPromiseValue);\n",
              "  return Promise.resolve(next.value.promise).then((value) => {\n",
              "    // Cache the last promise value to make it available to the next\n",
              "    // step of the generator.\n",
              "    outputElement.lastPromiseValue = value;\n",
              "    return next.value.response;\n",
              "  });\n",
              "}\n",
              "\n",
              "/**\n",
              " * Generator function which is called between each async step of the upload\n",
              " * process.\n",
              " * @param {string} inputId Element ID of the input file picker element.\n",
              " * @param {string} outputId Element ID of the output display.\n",
              " * @return {!Iterable<!Object>} Iterable of next steps.\n",
              " */\n",
              "function* uploadFilesStep(inputId, outputId) {\n",
              "  const inputElement = document.getElementById(inputId);\n",
              "  inputElement.disabled = false;\n",
              "\n",
              "  const outputElement = document.getElementById(outputId);\n",
              "  outputElement.innerHTML = '';\n",
              "\n",
              "  const pickedPromise = new Promise((resolve) => {\n",
              "    inputElement.addEventListener('change', (e) => {\n",
              "      resolve(e.target.files);\n",
              "    });\n",
              "  });\n",
              "\n",
              "  const cancel = document.createElement('button');\n",
              "  inputElement.parentElement.appendChild(cancel);\n",
              "  cancel.textContent = 'Cancel upload';\n",
              "  const cancelPromise = new Promise((resolve) => {\n",
              "    cancel.onclick = () => {\n",
              "      resolve(null);\n",
              "    };\n",
              "  });\n",
              "\n",
              "  // Wait for the user to pick the files.\n",
              "  const files = yield {\n",
              "    promise: Promise.race([pickedPromise, cancelPromise]),\n",
              "    response: {\n",
              "      action: 'starting',\n",
              "    }\n",
              "  };\n",
              "\n",
              "  cancel.remove();\n",
              "\n",
              "  // Disable the input element since further picks are not allowed.\n",
              "  inputElement.disabled = true;\n",
              "\n",
              "  if (!files) {\n",
              "    return {\n",
              "      response: {\n",
              "        action: 'complete',\n",
              "      }\n",
              "    };\n",
              "  }\n",
              "\n",
              "  for (const file of files) {\n",
              "    const li = document.createElement('li');\n",
              "    li.append(span(file.name, {fontWeight: 'bold'}));\n",
              "    li.append(span(\n",
              "        `(${file.type || 'n/a'}) - ${file.size} bytes, ` +\n",
              "        `last modified: ${\n",
              "            file.lastModifiedDate ? file.lastModifiedDate.toLocaleDateString() :\n",
              "                                    'n/a'} - `));\n",
              "    const percent = span('0% done');\n",
              "    li.appendChild(percent);\n",
              "\n",
              "    outputElement.appendChild(li);\n",
              "\n",
              "    const fileDataPromise = new Promise((resolve) => {\n",
              "      const reader = new FileReader();\n",
              "      reader.onload = (e) => {\n",
              "        resolve(e.target.result);\n",
              "      };\n",
              "      reader.readAsArrayBuffer(file);\n",
              "    });\n",
              "    // Wait for the data to be ready.\n",
              "    let fileData = yield {\n",
              "      promise: fileDataPromise,\n",
              "      response: {\n",
              "        action: 'continue',\n",
              "      }\n",
              "    };\n",
              "\n",
              "    // Use a chunked sending to avoid message size limits. See b/62115660.\n",
              "    let position = 0;\n",
              "    do {\n",
              "      const length = Math.min(fileData.byteLength - position, MAX_PAYLOAD_SIZE);\n",
              "      const chunk = new Uint8Array(fileData, position, length);\n",
              "      position += length;\n",
              "\n",
              "      const base64 = btoa(String.fromCharCode.apply(null, chunk));\n",
              "      yield {\n",
              "        response: {\n",
              "          action: 'append',\n",
              "          file: file.name,\n",
              "          data: base64,\n",
              "        },\n",
              "      };\n",
              "\n",
              "      let percentDone = fileData.byteLength === 0 ?\n",
              "          100 :\n",
              "          Math.round((position / fileData.byteLength) * 100);\n",
              "      percent.textContent = `${percentDone}% done`;\n",
              "\n",
              "    } while (position < fileData.byteLength);\n",
              "  }\n",
              "\n",
              "  // All done.\n",
              "  yield {\n",
              "    response: {\n",
              "      action: 'complete',\n",
              "    }\n",
              "  };\n",
              "}\n",
              "\n",
              "scope.google = scope.google || {};\n",
              "scope.google.colab = scope.google.colab || {};\n",
              "scope.google.colab._files = {\n",
              "  _uploadFiles,\n",
              "  _uploadFilesContinue,\n",
              "};\n",
              "})(self);\n",
              "</script> "
            ]
          },
          "metadata": {}
        },
        {
          "output_type": "stream",
          "name": "stdout",
          "text": [
            "Saving train.csv to train.csv\n"
          ]
        }
      ]
    },
    {
      "cell_type": "code",
      "execution_count": 26,
      "id": "57d09499-8396-44ff-9a15-f3a2bafdecf9",
      "metadata": {
        "colab": {
          "base_uri": "https://localhost:8080/",
          "height": 206
        },
        "id": "57d09499-8396-44ff-9a15-f3a2bafdecf9",
        "outputId": "e5f0a113-7aea-4280-f851-a16f18252e3b"
      },
      "outputs": [
        {
          "output_type": "execute_result",
          "data": {
            "text/plain": [
              "   id                                              title              author  \\\n",
              "0   0  House Dem Aide: We Didn’t Even See Comey’s Let...       Darrell Lucus   \n",
              "1   1  FLYNN: Hillary Clinton, Big Woman on Campus - ...     Daniel J. Flynn   \n",
              "2   2                  Why the Truth Might Get You Fired  Consortiumnews.com   \n",
              "3   3  15 Civilians Killed In Single US Airstrike Hav...     Jessica Purkiss   \n",
              "4   4  Iranian woman jailed for fictional unpublished...      Howard Portnoy   \n",
              "\n",
              "                                                text  label  \n",
              "0  House Dem Aide: We Didn’t Even See Comey’s Let...      1  \n",
              "1  Ever get the feeling your life circles the rou...      0  \n",
              "2  Why the Truth Might Get You Fired October 29, ...      1  \n",
              "3  Videos 15 Civilians Killed In Single US Airstr...      1  \n",
              "4  Print \\nAn Iranian woman has been sentenced to...      1  "
            ],
            "text/html": [
              "\n",
              "  <div id=\"df-c7ca688d-8d97-4161-b2d9-3d83bbed42dd\" class=\"colab-df-container\">\n",
              "    <div>\n",
              "<style scoped>\n",
              "    .dataframe tbody tr th:only-of-type {\n",
              "        vertical-align: middle;\n",
              "    }\n",
              "\n",
              "    .dataframe tbody tr th {\n",
              "        vertical-align: top;\n",
              "    }\n",
              "\n",
              "    .dataframe thead th {\n",
              "        text-align: right;\n",
              "    }\n",
              "</style>\n",
              "<table border=\"1\" class=\"dataframe\">\n",
              "  <thead>\n",
              "    <tr style=\"text-align: right;\">\n",
              "      <th></th>\n",
              "      <th>id</th>\n",
              "      <th>title</th>\n",
              "      <th>author</th>\n",
              "      <th>text</th>\n",
              "      <th>label</th>\n",
              "    </tr>\n",
              "  </thead>\n",
              "  <tbody>\n",
              "    <tr>\n",
              "      <th>0</th>\n",
              "      <td>0</td>\n",
              "      <td>House Dem Aide: We Didn’t Even See Comey’s Let...</td>\n",
              "      <td>Darrell Lucus</td>\n",
              "      <td>House Dem Aide: We Didn’t Even See Comey’s Let...</td>\n",
              "      <td>1</td>\n",
              "    </tr>\n",
              "    <tr>\n",
              "      <th>1</th>\n",
              "      <td>1</td>\n",
              "      <td>FLYNN: Hillary Clinton, Big Woman on Campus - ...</td>\n",
              "      <td>Daniel J. Flynn</td>\n",
              "      <td>Ever get the feeling your life circles the rou...</td>\n",
              "      <td>0</td>\n",
              "    </tr>\n",
              "    <tr>\n",
              "      <th>2</th>\n",
              "      <td>2</td>\n",
              "      <td>Why the Truth Might Get You Fired</td>\n",
              "      <td>Consortiumnews.com</td>\n",
              "      <td>Why the Truth Might Get You Fired October 29, ...</td>\n",
              "      <td>1</td>\n",
              "    </tr>\n",
              "    <tr>\n",
              "      <th>3</th>\n",
              "      <td>3</td>\n",
              "      <td>15 Civilians Killed In Single US Airstrike Hav...</td>\n",
              "      <td>Jessica Purkiss</td>\n",
              "      <td>Videos 15 Civilians Killed In Single US Airstr...</td>\n",
              "      <td>1</td>\n",
              "    </tr>\n",
              "    <tr>\n",
              "      <th>4</th>\n",
              "      <td>4</td>\n",
              "      <td>Iranian woman jailed for fictional unpublished...</td>\n",
              "      <td>Howard Portnoy</td>\n",
              "      <td>Print \\nAn Iranian woman has been sentenced to...</td>\n",
              "      <td>1</td>\n",
              "    </tr>\n",
              "  </tbody>\n",
              "</table>\n",
              "</div>\n",
              "    <div class=\"colab-df-buttons\">\n",
              "\n",
              "  <div class=\"colab-df-container\">\n",
              "    <button class=\"colab-df-convert\" onclick=\"convertToInteractive('df-c7ca688d-8d97-4161-b2d9-3d83bbed42dd')\"\n",
              "            title=\"Convert this dataframe to an interactive table.\"\n",
              "            style=\"display:none;\">\n",
              "\n",
              "  <svg xmlns=\"http://www.w3.org/2000/svg\" height=\"24px\" viewBox=\"0 -960 960 960\">\n",
              "    <path d=\"M120-120v-720h720v720H120Zm60-500h600v-160H180v160Zm220 220h160v-160H400v160Zm0 220h160v-160H400v160ZM180-400h160v-160H180v160Zm440 0h160v-160H620v160ZM180-180h160v-160H180v160Zm440 0h160v-160H620v160Z\"/>\n",
              "  </svg>\n",
              "    </button>\n",
              "\n",
              "  <style>\n",
              "    .colab-df-container {\n",
              "      display:flex;\n",
              "      gap: 12px;\n",
              "    }\n",
              "\n",
              "    .colab-df-convert {\n",
              "      background-color: #E8F0FE;\n",
              "      border: none;\n",
              "      border-radius: 50%;\n",
              "      cursor: pointer;\n",
              "      display: none;\n",
              "      fill: #1967D2;\n",
              "      height: 32px;\n",
              "      padding: 0 0 0 0;\n",
              "      width: 32px;\n",
              "    }\n",
              "\n",
              "    .colab-df-convert:hover {\n",
              "      background-color: #E2EBFA;\n",
              "      box-shadow: 0px 1px 2px rgba(60, 64, 67, 0.3), 0px 1px 3px 1px rgba(60, 64, 67, 0.15);\n",
              "      fill: #174EA6;\n",
              "    }\n",
              "\n",
              "    .colab-df-buttons div {\n",
              "      margin-bottom: 4px;\n",
              "    }\n",
              "\n",
              "    [theme=dark] .colab-df-convert {\n",
              "      background-color: #3B4455;\n",
              "      fill: #D2E3FC;\n",
              "    }\n",
              "\n",
              "    [theme=dark] .colab-df-convert:hover {\n",
              "      background-color: #434B5C;\n",
              "      box-shadow: 0px 1px 3px 1px rgba(0, 0, 0, 0.15);\n",
              "      filter: drop-shadow(0px 1px 2px rgba(0, 0, 0, 0.3));\n",
              "      fill: #FFFFFF;\n",
              "    }\n",
              "  </style>\n",
              "\n",
              "    <script>\n",
              "      const buttonEl =\n",
              "        document.querySelector('#df-c7ca688d-8d97-4161-b2d9-3d83bbed42dd button.colab-df-convert');\n",
              "      buttonEl.style.display =\n",
              "        google.colab.kernel.accessAllowed ? 'block' : 'none';\n",
              "\n",
              "      async function convertToInteractive(key) {\n",
              "        const element = document.querySelector('#df-c7ca688d-8d97-4161-b2d9-3d83bbed42dd');\n",
              "        const dataTable =\n",
              "          await google.colab.kernel.invokeFunction('convertToInteractive',\n",
              "                                                    [key], {});\n",
              "        if (!dataTable) return;\n",
              "\n",
              "        const docLinkHtml = 'Like what you see? Visit the ' +\n",
              "          '<a target=\"_blank\" href=https://colab.research.google.com/notebooks/data_table.ipynb>data table notebook</a>'\n",
              "          + ' to learn more about interactive tables.';\n",
              "        element.innerHTML = '';\n",
              "        dataTable['output_type'] = 'display_data';\n",
              "        await google.colab.output.renderOutput(dataTable, element);\n",
              "        const docLink = document.createElement('div');\n",
              "        docLink.innerHTML = docLinkHtml;\n",
              "        element.appendChild(docLink);\n",
              "      }\n",
              "    </script>\n",
              "  </div>\n",
              "\n",
              "\n",
              "    <div id=\"df-7ca77ec0-9dff-43a9-abc7-d12f482a61a9\">\n",
              "      <button class=\"colab-df-quickchart\" onclick=\"quickchart('df-7ca77ec0-9dff-43a9-abc7-d12f482a61a9')\"\n",
              "                title=\"Suggest charts\"\n",
              "                style=\"display:none;\">\n",
              "\n",
              "<svg xmlns=\"http://www.w3.org/2000/svg\" height=\"24px\"viewBox=\"0 0 24 24\"\n",
              "     width=\"24px\">\n",
              "    <g>\n",
              "        <path d=\"M19 3H5c-1.1 0-2 .9-2 2v14c0 1.1.9 2 2 2h14c1.1 0 2-.9 2-2V5c0-1.1-.9-2-2-2zM9 17H7v-7h2v7zm4 0h-2V7h2v10zm4 0h-2v-4h2v4z\"/>\n",
              "    </g>\n",
              "</svg>\n",
              "      </button>\n",
              "\n",
              "<style>\n",
              "  .colab-df-quickchart {\n",
              "      --bg-color: #E8F0FE;\n",
              "      --fill-color: #1967D2;\n",
              "      --hover-bg-color: #E2EBFA;\n",
              "      --hover-fill-color: #174EA6;\n",
              "      --disabled-fill-color: #AAA;\n",
              "      --disabled-bg-color: #DDD;\n",
              "  }\n",
              "\n",
              "  [theme=dark] .colab-df-quickchart {\n",
              "      --bg-color: #3B4455;\n",
              "      --fill-color: #D2E3FC;\n",
              "      --hover-bg-color: #434B5C;\n",
              "      --hover-fill-color: #FFFFFF;\n",
              "      --disabled-bg-color: #3B4455;\n",
              "      --disabled-fill-color: #666;\n",
              "  }\n",
              "\n",
              "  .colab-df-quickchart {\n",
              "    background-color: var(--bg-color);\n",
              "    border: none;\n",
              "    border-radius: 50%;\n",
              "    cursor: pointer;\n",
              "    display: none;\n",
              "    fill: var(--fill-color);\n",
              "    height: 32px;\n",
              "    padding: 0;\n",
              "    width: 32px;\n",
              "  }\n",
              "\n",
              "  .colab-df-quickchart:hover {\n",
              "    background-color: var(--hover-bg-color);\n",
              "    box-shadow: 0 1px 2px rgba(60, 64, 67, 0.3), 0 1px 3px 1px rgba(60, 64, 67, 0.15);\n",
              "    fill: var(--button-hover-fill-color);\n",
              "  }\n",
              "\n",
              "  .colab-df-quickchart-complete:disabled,\n",
              "  .colab-df-quickchart-complete:disabled:hover {\n",
              "    background-color: var(--disabled-bg-color);\n",
              "    fill: var(--disabled-fill-color);\n",
              "    box-shadow: none;\n",
              "  }\n",
              "\n",
              "  .colab-df-spinner {\n",
              "    border: 2px solid var(--fill-color);\n",
              "    border-color: transparent;\n",
              "    border-bottom-color: var(--fill-color);\n",
              "    animation:\n",
              "      spin 1s steps(1) infinite;\n",
              "  }\n",
              "\n",
              "  @keyframes spin {\n",
              "    0% {\n",
              "      border-color: transparent;\n",
              "      border-bottom-color: var(--fill-color);\n",
              "      border-left-color: var(--fill-color);\n",
              "    }\n",
              "    20% {\n",
              "      border-color: transparent;\n",
              "      border-left-color: var(--fill-color);\n",
              "      border-top-color: var(--fill-color);\n",
              "    }\n",
              "    30% {\n",
              "      border-color: transparent;\n",
              "      border-left-color: var(--fill-color);\n",
              "      border-top-color: var(--fill-color);\n",
              "      border-right-color: var(--fill-color);\n",
              "    }\n",
              "    40% {\n",
              "      border-color: transparent;\n",
              "      border-right-color: var(--fill-color);\n",
              "      border-top-color: var(--fill-color);\n",
              "    }\n",
              "    60% {\n",
              "      border-color: transparent;\n",
              "      border-right-color: var(--fill-color);\n",
              "    }\n",
              "    80% {\n",
              "      border-color: transparent;\n",
              "      border-right-color: var(--fill-color);\n",
              "      border-bottom-color: var(--fill-color);\n",
              "    }\n",
              "    90% {\n",
              "      border-color: transparent;\n",
              "      border-bottom-color: var(--fill-color);\n",
              "    }\n",
              "  }\n",
              "</style>\n",
              "\n",
              "      <script>\n",
              "        async function quickchart(key) {\n",
              "          const quickchartButtonEl =\n",
              "            document.querySelector('#' + key + ' button');\n",
              "          quickchartButtonEl.disabled = true;  // To prevent multiple clicks.\n",
              "          quickchartButtonEl.classList.add('colab-df-spinner');\n",
              "          try {\n",
              "            const charts = await google.colab.kernel.invokeFunction(\n",
              "                'suggestCharts', [key], {});\n",
              "          } catch (error) {\n",
              "            console.error('Error during call to suggestCharts:', error);\n",
              "          }\n",
              "          quickchartButtonEl.classList.remove('colab-df-spinner');\n",
              "          quickchartButtonEl.classList.add('colab-df-quickchart-complete');\n",
              "        }\n",
              "        (() => {\n",
              "          let quickchartButtonEl =\n",
              "            document.querySelector('#df-7ca77ec0-9dff-43a9-abc7-d12f482a61a9 button');\n",
              "          quickchartButtonEl.style.display =\n",
              "            google.colab.kernel.accessAllowed ? 'block' : 'none';\n",
              "        })();\n",
              "      </script>\n",
              "    </div>\n",
              "\n",
              "    </div>\n",
              "  </div>\n"
            ],
            "application/vnd.google.colaboratory.intrinsic+json": {
              "type": "dataframe",
              "variable_name": "df",
              "summary": "{\n  \"name\": \"df\",\n  \"rows\": 20800,\n  \"fields\": [\n    {\n      \"column\": \"id\",\n      \"properties\": {\n        \"dtype\": \"number\",\n        \"std\": 6004,\n        \"min\": 0,\n        \"max\": 20799,\n        \"num_unique_values\": 20800,\n        \"samples\": [\n          14649,\n          9231,\n          6473\n        ],\n        \"semantic_type\": \"\",\n        \"description\": \"\"\n      }\n    },\n    {\n      \"column\": \"title\",\n      \"properties\": {\n        \"dtype\": \"string\",\n        \"num_unique_values\": 19803,\n        \"samples\": [\n          \"Florida Republicans Voting for Hillary Clinton \\u00b7 Guardian Liberty Voice\",\n          \"\\u2018Weekend Warriors\\u2019 Show Survival Benefits - The New York Times\",\n          \"Part 6, Democratic Network Money: Commons Money that Works for Us, Instead of Us Working for It\"\n        ],\n        \"semantic_type\": \"\",\n        \"description\": \"\"\n      }\n    },\n    {\n      \"column\": \"author\",\n      \"properties\": {\n        \"dtype\": \"category\",\n        \"num_unique_values\": 4201,\n        \"samples\": [\n          \"AARGH63\",\n          \"Dave Kehr\",\n          \"Patrick Healy\"\n        ],\n        \"semantic_type\": \"\",\n        \"description\": \"\"\n      }\n    },\n    {\n      \"column\": \"text\",\n      \"properties\": {\n        \"dtype\": \"string\",\n        \"num_unique_values\": 20386,\n        \"samples\": [\n          \"Multan a un ultrasur por lanzar a un jugador del Bar\\u00e7a al campo durante el partido Madrid-Legia EL PARTIDO SE CONSIDERABA DE ALTO RIESGO PARA LOS JUGADORES DEL BARCELONA Real Madrid \\nUn jugador barcelonista golpe\\u00f3 a varios jugadores durante el encuentro de la Champions que tuvo lugar ayer entre el Real Madrid y el Legia Varsovia despu\\u00e9s de ser arrojado desde la grada por un hincha madridista. \\nEl portero del Legia, muy molesto, intent\\u00f3 devolver el jugador a las gradas de una patada y se encar\\u00f3 con los Ultrasur, que ya preparaban a otro jugador para echarlo al campo y entorpecer el encuentro. En esta ocasi\\u00f3n pretend\\u00edan prenderlo con un mechero antes de lanzarlo al c\\u00e9sped. \\nLas autoridades han vuelto a pedir a los aficionados que dejen de lanzar cosas al campo como botellas, monedas y jugadores del Barcelona. El dispositivo de seguridad no puedo hacer nada por evitar que algunos hinchas introdujeran a jugadores barcelonistas a la grada, pues los llevaban camuflados dentro de bocadillos de gran tama\\u00f1o. \\nEl partido pudo ser reanudado cuando el \\u00e1rbitro apart\\u00f3 a un rinc\\u00f3n del c\\u00e9sped al jugador barcelonista.\",\n          \"Written by Jacob G. Hornberger   As US officials continue to accuse Russia of meddling with the US presidential election, an accusation that they have provided no evidence whatsoever to support, let\\u2019s review some of the US government\\u2019s history of meddling with elections in others countries.1. In 1951, the democratically elected parliament of Iran elected a man named Mohammad Mossadegh to be Iran\\u2019s prime minister. Mossadegh angered British Empire officials by nationalizing British oil interests in the country.British officials then turned to the CIA for assistance. In 1953, the CIA secretly fomented a violent coup in Iran, which succeeded in ousting Mossadegh from power and making the Shah of Iran the supreme unelected dictator of the country.To fortify the Shah\\u2019s dictatorial hold on power, the CIA helped organize and train the his domestic police force, the Savak, which was essentially a combination of the CIA, the NSA, and the military. Part of the CIA\\u2019s training involved teaching Savak agents the art of torture.For the next 26 years, the Iranian people suffered under one of the most brutal and tyrannical dictatorships in the world, one that US officials fully supported and called an ally and friend of the United States.In 1979, Iranians successfully revolted against the Shah\\u2019s regime and ousted him from power. One result was not a restoration of the democratic system that had elected Mossadegh but rather another brutal dictatorship, this time a religious one. Another result is the bad relations between the Iran and US governments that continues to exist today.2. In 1951, the Guatemalan people democratically elected a man named Jacobo Arbenz to be their president. Arbenz, however, was not satisfactory to US officials, especially the national-security branch of the government, specifically the Pentagon and the CIA. The reason that US officials opposed Arbenz was that he was a socialist, and US officials considered a socialist president of Guatemala to be a threat to \\u201cnational security\\u201d here in the United States.In 1954 \\u2014 one year after the coup in Iran, the CIA fomented a violent military coup that succeeded in removing Arbenz from power and replacing him with one of the most brutal unelected military dictators in Latin American history, a man named Carlos Castillo Armas. The CIA had a kill list prepared for the coup, which Arbenz was able to escape by fleeing the country before Castillo was able to get him. The CIA\\u2019s destruction of Guatemala\\u2019s democratic system threw the nation into a 30-year civil war that ended up killing millions of Guatemalan people, especially many of the poor.3. In 1960 a man named Patrice Lamumba was elected Congo\\u2019s first prime minister after independence from Belgium. Lamumba spoke out against Western imperialism and refused to take sides in the Cold War, which caused the CIA to conclude that he was a threat to \\u201cnational security.\\u201d The CIA orchestrated the assassination of Lamumba, which ended up taking place on January 17, 1961, just three days before President Kennedy, who liked Lamumba and who would have ordered the CIA to stand down, was to be sworn into office.4. In 1970 a man named Salvador Allende received a plurality of votes in the presidential election in Chile. Pursuant to the Chilean constitution, the election was thrown into the national congress. President Richard Nixon, his national-security team, the Pentagon, and the CIA concluded that because Allende believed in communism and socialism, he posed a grave threat to \\u201cnational security\\u201d here in the United States. The CIA attempted to bribe members of the congress to vote against Allende. It also orchestrated the kidnapping of the head of Chile\\u2019s armed forces, Gen Rene Schneider, who opposed a US military coup in his country, especially since a coup would violate the country\\u2019s constitution. The kidnapping attempt on Schneider left him dead.The CIA then fomented a coup that took place on 9/11 1973 that violently ousted Allende from power and left him dead. Replacing him was army Gen. Augusto Pinochet, one of the most brutal unelected military dictators in history. By the time Pinochet\\u2019s 17-year reign of military terror came to an end in 1990, he and his CIA-supported goons had incarcerated, raped, tortured, or killed tens of thousands of innocent people \\u2014 that is, people whose only \\u201ccrime\\u201d was believing in socialism \\u2014 with the full support of the CIA, Pentagon, Nixon, and his \\u201cnational security\\u201d team.Of course, there are also the more recent support of regime-change operations that ousted democratically elected presidents that the US government disapproved of, such as in Ukraine and Egypt.And then there is the long list of countries where unelected dictators were targeted for regime change by the US national security state and, where successful, replaced with a brutal unelected pro-US dictator. Cuba, Indonesia, Iraq, Libya, and Syria all come to mind.US officials need to keep in mind that when they point their accusatory index finger at Russia for supposedly meddling in the US presidential election, US officials have, at the same time, three fingers pointing back at themselves. Reprinted with permission from the Future of Freedom Foundation . Related\",\n          \"When hearing of an establishment called the Black and Blue Steakhouse, one could reasonably surmise that some, or at the very least one, extremely tough person could be found somewhere in there. Well, the three terrorists who attacked London Bridge over the weekend found the Black and Blue Steakhouse, and they found the toughest man in the house. [Or, maybe more to the point, he found them.  Roy Larner, 47, is a huge fan of the South East London soccer team Millwall F. C. The team is known as the Lions, and when   terrorists entered the Black and Blue to kill innocent people, Larner let them know who is the true king of the jungle. After the terrorists entered, with obvious bad intentions, Larner sprang into action: \\u201cLike an idiot I shouted back at them. I thought, \\u2018I need to take the p*** out of these b*****s.\\u2019 \\u201cI took a few steps towards them and said, \\u2018F*** you, I\\u2019m Millwall.\\u2019 So they started attacking me. \\u201cI stood in front of them trying to fight them off. Everyone else ran to the back. I was on my own against all three of them, that\\u2019s why I got hurt so much. It was just me, trying to grab them with my bare hands and hold on. I was swinging. \\u201cI got stabbed and sliced eight times. They got me in my head, chest and both hands. There was blood everywhere. \\u201cThey were saying, \\u2018Islam, Islam!\\u2019 I said again, \\u2018F*** you, I\\u2019m Millwall!\\u2019 \\u201cIt was the worst thing I could have done as they carried on attacking me. \\u201cLuckily, none of the blows were straight at me or I\\u2019d be dead. \\u201d A petition has begun, with the aim of awarding Larner with the George Cross for bravery. The award is the second highest commendation granted by Great Britain. Looking at his scars, it\\u2019s really hard to imagine that he won\\u2019t get it. If Millwall is looking for a new slogan, they may have found it. \\u201cF*** you, I\\u2019m Millwall!\\u201d has a nice ring to it. Follow Dylan Gwinn on Twitter: @themightygwinn\"\n        ],\n        \"semantic_type\": \"\",\n        \"description\": \"\"\n      }\n    },\n    {\n      \"column\": \"label\",\n      \"properties\": {\n        \"dtype\": \"number\",\n        \"std\": 0,\n        \"min\": 0,\n        \"max\": 1,\n        \"num_unique_values\": 2,\n        \"samples\": [\n          0,\n          1\n        ],\n        \"semantic_type\": \"\",\n        \"description\": \"\"\n      }\n    }\n  ]\n}"
            }
          },
          "metadata": {},
          "execution_count": 26
        }
      ],
      "source": [
        "df = pd.read_csv(r\"train.csv\")\n",
        "df.head()"
      ]
    },
    {
      "cell_type": "code",
      "execution_count": 27,
      "id": "2ed402ca-0fd9-45b2-bb7a-c18e49c80e5f",
      "metadata": {
        "colab": {
          "base_uri": "https://localhost:8080/"
        },
        "id": "2ed402ca-0fd9-45b2-bb7a-c18e49c80e5f",
        "outputId": "02cd72d8-9c7a-47b6-ba48-ee4fab924f17"
      },
      "outputs": [
        {
          "output_type": "execute_result",
          "data": {
            "text/plain": [
              "(20800, 5)"
            ]
          },
          "metadata": {},
          "execution_count": 27
        }
      ],
      "source": [
        "df.shape"
      ]
    },
    {
      "cell_type": "code",
      "execution_count": 28,
      "id": "930b820f-0755-4a8e-a54d-8245f17bd582",
      "metadata": {
        "id": "930b820f-0755-4a8e-a54d-8245f17bd582",
        "colab": {
          "base_uri": "https://localhost:8080/"
        },
        "outputId": "33c40840-f57d-4be8-fb45-3a021de00ee1"
      },
      "outputs": [
        {
          "output_type": "stream",
          "name": "stderr",
          "text": [
            "<ipython-input-28-056908e7e3ef>:1: FutureWarning: data_manager option is deprecated and will be removed in a future version. Only the BlockManager will be available.\n",
            "  pd.reset_option('all')\n",
            "<ipython-input-28-056908e7e3ef>:1: FutureWarning: use_inf_as_na option is deprecated and will be removed in a future version. Convert inf values to NaN before operating instead.\n",
            "  pd.reset_option('all')\n"
          ]
        }
      ],
      "source": [
        "pd.reset_option('all')"
      ]
    },
    {
      "cell_type": "code",
      "execution_count": 29,
      "id": "6ad0fb65-3467-4670-ad10-51b04a19f0be",
      "metadata": {
        "id": "6ad0fb65-3467-4670-ad10-51b04a19f0be",
        "colab": {
          "base_uri": "https://localhost:8080/",
          "height": 458
        },
        "outputId": "fe48b785-4eb3-4ba2-9d44-123329add19d"
      },
      "outputs": [
        {
          "output_type": "execute_result",
          "data": {
            "text/plain": [
              "0        House Dem Aide: We Didn’t Even See Comey’s Let...\n",
              "1        FLYNN: Hillary Clinton, Big Woman on Campus - ...\n",
              "2                        Why the Truth Might Get You Fired\n",
              "3        15 Civilians Killed In Single US Airstrike Hav...\n",
              "4        Iranian woman jailed for fictional unpublished...\n",
              "                               ...                        \n",
              "20795    Rapper T.I.: Trump a ’Poster Child For White S...\n",
              "20796    N.F.L. Playoffs: Schedule, Matchups and Odds -...\n",
              "20797    Macy’s Is Said to Receive Takeover Approach by...\n",
              "20798    NATO, Russia To Hold Parallel Exercises In Bal...\n",
              "20799                            What Keeps the F-35 Alive\n",
              "Name: title, Length: 20800, dtype: object"
            ],
            "text/html": [
              "<div>\n",
              "<style scoped>\n",
              "    .dataframe tbody tr th:only-of-type {\n",
              "        vertical-align: middle;\n",
              "    }\n",
              "\n",
              "    .dataframe tbody tr th {\n",
              "        vertical-align: top;\n",
              "    }\n",
              "\n",
              "    .dataframe thead th {\n",
              "        text-align: right;\n",
              "    }\n",
              "</style>\n",
              "<table border=\"1\" class=\"dataframe\">\n",
              "  <thead>\n",
              "    <tr style=\"text-align: right;\">\n",
              "      <th></th>\n",
              "      <th>title</th>\n",
              "    </tr>\n",
              "  </thead>\n",
              "  <tbody>\n",
              "    <tr>\n",
              "      <th>0</th>\n",
              "      <td>House Dem Aide: We Didn’t Even See Comey’s Let...</td>\n",
              "    </tr>\n",
              "    <tr>\n",
              "      <th>1</th>\n",
              "      <td>FLYNN: Hillary Clinton, Big Woman on Campus - ...</td>\n",
              "    </tr>\n",
              "    <tr>\n",
              "      <th>2</th>\n",
              "      <td>Why the Truth Might Get You Fired</td>\n",
              "    </tr>\n",
              "    <tr>\n",
              "      <th>3</th>\n",
              "      <td>15 Civilians Killed In Single US Airstrike Hav...</td>\n",
              "    </tr>\n",
              "    <tr>\n",
              "      <th>4</th>\n",
              "      <td>Iranian woman jailed for fictional unpublished...</td>\n",
              "    </tr>\n",
              "    <tr>\n",
              "      <th>...</th>\n",
              "      <td>...</td>\n",
              "    </tr>\n",
              "    <tr>\n",
              "      <th>20795</th>\n",
              "      <td>Rapper T.I.: Trump a ’Poster Child For White S...</td>\n",
              "    </tr>\n",
              "    <tr>\n",
              "      <th>20796</th>\n",
              "      <td>N.F.L. Playoffs: Schedule, Matchups and Odds -...</td>\n",
              "    </tr>\n",
              "    <tr>\n",
              "      <th>20797</th>\n",
              "      <td>Macy’s Is Said to Receive Takeover Approach by...</td>\n",
              "    </tr>\n",
              "    <tr>\n",
              "      <th>20798</th>\n",
              "      <td>NATO, Russia To Hold Parallel Exercises In Bal...</td>\n",
              "    </tr>\n",
              "    <tr>\n",
              "      <th>20799</th>\n",
              "      <td>What Keeps the F-35 Alive</td>\n",
              "    </tr>\n",
              "  </tbody>\n",
              "</table>\n",
              "<p>20800 rows × 1 columns</p>\n",
              "</div><br><label><b>dtype:</b> object</label>"
            ]
          },
          "metadata": {},
          "execution_count": 29
        }
      ],
      "source": [
        "df.title"
      ]
    },
    {
      "cell_type": "code",
      "execution_count": 30,
      "id": "980e59e1-1b96-4560-a46b-2b946ef68e5d",
      "metadata": {
        "id": "980e59e1-1b96-4560-a46b-2b946ef68e5d",
        "colab": {
          "base_uri": "https://localhost:8080/",
          "height": 458
        },
        "outputId": "a7395df6-064f-4ad9-a16b-d7507fb2a14f"
      },
      "outputs": [
        {
          "output_type": "execute_result",
          "data": {
            "text/plain": [
              "0        House Dem Aide: We Didn’t Even See Comey’s Let...\n",
              "1        Ever get the feeling your life circles the rou...\n",
              "2        Why the Truth Might Get You Fired October 29, ...\n",
              "3        Videos 15 Civilians Killed In Single US Airstr...\n",
              "4        Print \\nAn Iranian woman has been sentenced to...\n",
              "                               ...                        \n",
              "20795    Rapper T. I. unloaded on black celebrities who...\n",
              "20796    When the Green Bay Packers lost to the Washing...\n",
              "20797    The Macy’s of today grew from the union of sev...\n",
              "20798    NATO, Russia To Hold Parallel Exercises In Bal...\n",
              "20799      David Swanson is an author, activist, journa...\n",
              "Name: text, Length: 20800, dtype: object"
            ],
            "text/html": [
              "<div>\n",
              "<style scoped>\n",
              "    .dataframe tbody tr th:only-of-type {\n",
              "        vertical-align: middle;\n",
              "    }\n",
              "\n",
              "    .dataframe tbody tr th {\n",
              "        vertical-align: top;\n",
              "    }\n",
              "\n",
              "    .dataframe thead th {\n",
              "        text-align: right;\n",
              "    }\n",
              "</style>\n",
              "<table border=\"1\" class=\"dataframe\">\n",
              "  <thead>\n",
              "    <tr style=\"text-align: right;\">\n",
              "      <th></th>\n",
              "      <th>text</th>\n",
              "    </tr>\n",
              "  </thead>\n",
              "  <tbody>\n",
              "    <tr>\n",
              "      <th>0</th>\n",
              "      <td>House Dem Aide: We Didn’t Even See Comey’s Let...</td>\n",
              "    </tr>\n",
              "    <tr>\n",
              "      <th>1</th>\n",
              "      <td>Ever get the feeling your life circles the rou...</td>\n",
              "    </tr>\n",
              "    <tr>\n",
              "      <th>2</th>\n",
              "      <td>Why the Truth Might Get You Fired October 29, ...</td>\n",
              "    </tr>\n",
              "    <tr>\n",
              "      <th>3</th>\n",
              "      <td>Videos 15 Civilians Killed In Single US Airstr...</td>\n",
              "    </tr>\n",
              "    <tr>\n",
              "      <th>4</th>\n",
              "      <td>Print \\nAn Iranian woman has been sentenced to...</td>\n",
              "    </tr>\n",
              "    <tr>\n",
              "      <th>...</th>\n",
              "      <td>...</td>\n",
              "    </tr>\n",
              "    <tr>\n",
              "      <th>20795</th>\n",
              "      <td>Rapper T. I. unloaded on black celebrities who...</td>\n",
              "    </tr>\n",
              "    <tr>\n",
              "      <th>20796</th>\n",
              "      <td>When the Green Bay Packers lost to the Washing...</td>\n",
              "    </tr>\n",
              "    <tr>\n",
              "      <th>20797</th>\n",
              "      <td>The Macy’s of today grew from the union of sev...</td>\n",
              "    </tr>\n",
              "    <tr>\n",
              "      <th>20798</th>\n",
              "      <td>NATO, Russia To Hold Parallel Exercises In Bal...</td>\n",
              "    </tr>\n",
              "    <tr>\n",
              "      <th>20799</th>\n",
              "      <td>David Swanson is an author, activist, journa...</td>\n",
              "    </tr>\n",
              "  </tbody>\n",
              "</table>\n",
              "<p>20800 rows × 1 columns</p>\n",
              "</div><br><label><b>dtype:</b> object</label>"
            ]
          },
          "metadata": {},
          "execution_count": 30
        }
      ],
      "source": [
        "df['text']"
      ]
    },
    {
      "cell_type": "code",
      "execution_count": 31,
      "id": "532fce96-f2ec-4252-8190-ce6f6cd16106",
      "metadata": {
        "colab": {
          "base_uri": "https://localhost:8080/",
          "height": 241
        },
        "id": "532fce96-f2ec-4252-8190-ce6f6cd16106",
        "outputId": "208e2e30-3d7d-4ff0-a105-9a472644ea9c"
      },
      "outputs": [
        {
          "output_type": "execute_result",
          "data": {
            "text/plain": [
              "id           0\n",
              "title      558\n",
              "author    1957\n",
              "text        39\n",
              "label        0\n",
              "dtype: int64"
            ],
            "text/html": [
              "<div>\n",
              "<style scoped>\n",
              "    .dataframe tbody tr th:only-of-type {\n",
              "        vertical-align: middle;\n",
              "    }\n",
              "\n",
              "    .dataframe tbody tr th {\n",
              "        vertical-align: top;\n",
              "    }\n",
              "\n",
              "    .dataframe thead th {\n",
              "        text-align: right;\n",
              "    }\n",
              "</style>\n",
              "<table border=\"1\" class=\"dataframe\">\n",
              "  <thead>\n",
              "    <tr style=\"text-align: right;\">\n",
              "      <th></th>\n",
              "      <th>0</th>\n",
              "    </tr>\n",
              "  </thead>\n",
              "  <tbody>\n",
              "    <tr>\n",
              "      <th>id</th>\n",
              "      <td>0</td>\n",
              "    </tr>\n",
              "    <tr>\n",
              "      <th>title</th>\n",
              "      <td>558</td>\n",
              "    </tr>\n",
              "    <tr>\n",
              "      <th>author</th>\n",
              "      <td>1957</td>\n",
              "    </tr>\n",
              "    <tr>\n",
              "      <th>text</th>\n",
              "      <td>39</td>\n",
              "    </tr>\n",
              "    <tr>\n",
              "      <th>label</th>\n",
              "      <td>0</td>\n",
              "    </tr>\n",
              "  </tbody>\n",
              "</table>\n",
              "</div><br><label><b>dtype:</b> int64</label>"
            ]
          },
          "metadata": {},
          "execution_count": 31
        }
      ],
      "source": [
        "df.isnull().sum()"
      ]
    },
    {
      "cell_type": "code",
      "execution_count": 32,
      "id": "762252b8-58a1-4dba-897b-3ad98bb57672",
      "metadata": {
        "id": "762252b8-58a1-4dba-897b-3ad98bb57672"
      },
      "outputs": [],
      "source": [
        "df.dropna(inplace = True)\n",
        "df.reset_index(inplace = True)"
      ]
    },
    {
      "cell_type": "code",
      "execution_count": 32,
      "id": "017ff62e-2bd8-4e4a-80ee-fb4d05917159",
      "metadata": {
        "id": "017ff62e-2bd8-4e4a-80ee-fb4d05917159"
      },
      "outputs": [],
      "source": []
    },
    {
      "cell_type": "code",
      "execution_count": 33,
      "id": "35d0fa2d-adfc-4578-a4c1-5f50154c3286",
      "metadata": {
        "id": "35d0fa2d-adfc-4578-a4c1-5f50154c3286",
        "outputId": "83dc443a-1b17-4646-9aa5-c1a9cd2ab055",
        "colab": {
          "base_uri": "https://localhost:8080/",
          "height": 178
        }
      },
      "outputs": [
        {
          "output_type": "execute_result",
          "data": {
            "text/plain": [
              "label\n",
              "0    10361\n",
              "1     7924\n",
              "Name: count, dtype: int64"
            ],
            "text/html": [
              "<div>\n",
              "<style scoped>\n",
              "    .dataframe tbody tr th:only-of-type {\n",
              "        vertical-align: middle;\n",
              "    }\n",
              "\n",
              "    .dataframe tbody tr th {\n",
              "        vertical-align: top;\n",
              "    }\n",
              "\n",
              "    .dataframe thead th {\n",
              "        text-align: right;\n",
              "    }\n",
              "</style>\n",
              "<table border=\"1\" class=\"dataframe\">\n",
              "  <thead>\n",
              "    <tr style=\"text-align: right;\">\n",
              "      <th></th>\n",
              "      <th>count</th>\n",
              "    </tr>\n",
              "    <tr>\n",
              "      <th>label</th>\n",
              "      <th></th>\n",
              "    </tr>\n",
              "  </thead>\n",
              "  <tbody>\n",
              "    <tr>\n",
              "      <th>0</th>\n",
              "      <td>10361</td>\n",
              "    </tr>\n",
              "    <tr>\n",
              "      <th>1</th>\n",
              "      <td>7924</td>\n",
              "    </tr>\n",
              "  </tbody>\n",
              "</table>\n",
              "</div><br><label><b>dtype:</b> int64</label>"
            ]
          },
          "metadata": {},
          "execution_count": 33
        }
      ],
      "source": [
        "df['label'].value_counts()"
      ]
    },
    {
      "cell_type": "code",
      "execution_count": 34,
      "id": "73f88a03-7e7b-441c-abc2-55f58bf97965",
      "metadata": {
        "id": "73f88a03-7e7b-441c-abc2-55f58bf97965",
        "outputId": "9e8799e2-b20f-4269-802c-c18f66062e7b",
        "colab": {
          "base_uri": "https://localhost:8080/",
          "height": 272
        }
      },
      "outputs": [
        {
          "output_type": "execute_result",
          "data": {
            "text/plain": [
              "index     0\n",
              "id        0\n",
              "title     0\n",
              "author    0\n",
              "text      0\n",
              "label     0\n",
              "dtype: int64"
            ],
            "text/html": [
              "<div>\n",
              "<style scoped>\n",
              "    .dataframe tbody tr th:only-of-type {\n",
              "        vertical-align: middle;\n",
              "    }\n",
              "\n",
              "    .dataframe tbody tr th {\n",
              "        vertical-align: top;\n",
              "    }\n",
              "\n",
              "    .dataframe thead th {\n",
              "        text-align: right;\n",
              "    }\n",
              "</style>\n",
              "<table border=\"1\" class=\"dataframe\">\n",
              "  <thead>\n",
              "    <tr style=\"text-align: right;\">\n",
              "      <th></th>\n",
              "      <th>0</th>\n",
              "    </tr>\n",
              "  </thead>\n",
              "  <tbody>\n",
              "    <tr>\n",
              "      <th>index</th>\n",
              "      <td>0</td>\n",
              "    </tr>\n",
              "    <tr>\n",
              "      <th>id</th>\n",
              "      <td>0</td>\n",
              "    </tr>\n",
              "    <tr>\n",
              "      <th>title</th>\n",
              "      <td>0</td>\n",
              "    </tr>\n",
              "    <tr>\n",
              "      <th>author</th>\n",
              "      <td>0</td>\n",
              "    </tr>\n",
              "    <tr>\n",
              "      <th>text</th>\n",
              "      <td>0</td>\n",
              "    </tr>\n",
              "    <tr>\n",
              "      <th>label</th>\n",
              "      <td>0</td>\n",
              "    </tr>\n",
              "  </tbody>\n",
              "</table>\n",
              "</div><br><label><b>dtype:</b> int64</label>"
            ]
          },
          "metadata": {},
          "execution_count": 34
        }
      ],
      "source": [
        "df.isnull().sum()"
      ]
    },
    {
      "cell_type": "code",
      "execution_count": 35,
      "id": "ae938a00-0b47-4025-8a09-c83025362a80",
      "metadata": {
        "id": "ae938a00-0b47-4025-8a09-c83025362a80"
      },
      "outputs": [],
      "source": [
        "import re\n",
        "import string"
      ]
    },
    {
      "cell_type": "code",
      "execution_count": 36,
      "id": "ed81e777-6bcb-4375-ba75-0d8f0d145b07",
      "metadata": {
        "id": "ed81e777-6bcb-4375-ba75-0d8f0d145b07"
      },
      "outputs": [],
      "source": [
        "alphanumeric = lambda x: re.sub('\\w*\\d\\w*',' ',x)\n",
        "punc_lower = lambda x: re.sub('[%s]' % re.escape(string.punctuation),' ',x.lower())\n",
        "remove_n = lambda x: re.sub('\\n',' ',x)\n",
        "remove_non_ascii = lambda x: re.sub(r'[^\\x00-\\x7f]',r' ',x)\n",
        "df.text =df.text.map(alphanumeric).map(punc_lower).map(remove_n).map(remove_non_ascii)"
      ]
    },
    {
      "cell_type": "code",
      "execution_count": 37,
      "id": "77f09365-8b87-4433-b330-c7f3ffc70c21",
      "metadata": {
        "id": "77f09365-8b87-4433-b330-c7f3ffc70c21",
        "outputId": "430d2c7b-18e0-4cd8-f078-edbabe9aa871",
        "colab": {
          "base_uri": "https://localhost:8080/"
        }
      },
      "outputs": [
        {
          "output_type": "stream",
          "name": "stdout",
          "text": [
            "\u001b[1;30;43mStreaming output truncated to the last 5000 lines.\u001b[0m\n",
            
          ]
        }
      ],
      "source": [
        "from nltk.corpus import stopwords\n",
        "from nltk.stem.porter import PorterStemmer\n",
        "import re\n",
        "ps = PorterStemmer()\n",
        "corpus = []\n",
        "print(\"HELLO\")\n",
        "for i in range(0,len(df)):\n",
        "    review = re.sub('[^a-zA-Z]',' ',df['text'][i])\n",
        "    review = review.lower()\n",
        "    review = review.split()\n",
        "    review = [ps.stem(word) for word in review if not word in stopwords.words('english')]\n",
      ]
    },
    {
      "cell_type": "code",
      "execution_count": 38,
      "id": "4a5d6148-277b-4bbd-b782-fa03f96ca38c",
      "metadata": {
        "id": "4a5d6148-277b-4bbd-b782-fa03f96ca38c"
      },
      "outputs": [],
      "source": [
        "X = df['text']"
      ]
    },
    {
      "cell_type": "code",
      "execution_count": 39,
      "id": "3acdcd2d-3c8d-4253-98db-cff0e3cfbd36",
      "metadata": {
        "id": "3acdcd2d-3c8d-4253-98db-cff0e3cfbd36"
      },
      "outputs": [],
      "source": [
        "y = df['label']"
      ]
    },
    {
      "cell_type": "code",
      "execution_count": 40,
      "id": "165c1f74-5a61-4027-85fd-1dc5704e7992",
      "metadata": {
        "id": "165c1f74-5a61-4027-85fd-1dc5704e7992"
      },
      "outputs": [],
      "source": [
        "X_train,X_test,y_train,y_test = train_test_split(X,y,test_size = 0.3,random_state = 42)"
      ]
    },
    {
      "cell_type": "code",
      "execution_count": 41,
      "id": "9145dd3b-3f5c-4058-9f13-c31e0db48464",
      "metadata": {
        "id": "9145dd3b-3f5c-4058-9f13-c31e0db48464"
      },
      "outputs": [],
      "source": [
        "tfidvect = TfidfVectorizer(stop_words = 'english',max_df = 0.7)\n",
        "tfid_train = tfidvect.fit_transform(X_train)\n",
        "tfid_test = tfidvect.transform(X_test)"
      ]
    },
    {
      "cell_type": "code",
      "execution_count": null,
      "id": "c11d8db8-cd85-4179-bb34-b496da3907ec",
      "metadata": {
        "id": "c11d8db8-cd85-4179-bb34-b496da3907ec",
        "outputId": "6c705756-7f0c-48e9-8300-9c331350b942"
      },
      "outputs": [
        {
          "name": "stdout",
          "output_type": "stream",
          "text": [
            "  (0, 358)\t0.07961279856449366\n",
            "  (0, 372)\t0.03030340879173823\n",
            "  (0, 537)\t0.04496190882795737\n",
            "  (0, 633)\t0.07075978034731972\n",
            "  (0, 736)\t0.11319225510688784\n",
            "  (0, 1060)\t0.05356680934216195\n",
            "  (0, 1920)\t0.028721303324107054\n",
            "  (0, 2073)\t0.0542230376341789\n",
            "  (0, 3628)\t0.04619571383849755\n",
            "  (0, 3955)\t0.17924010444532165\n",
            "  (0, 4547)\t0.05023249852719462\n",
            "  (0, 5244)\t0.12749615200769782\n",
            "  (0, 5725)\t0.04875118763319373\n",
            "  (0, 5728)\t0.06274037776972732\n",
            "  (0, 5926)\t0.08279815274318891\n",
            "  (0, 7017)\t0.04500002737007027\n",
            "  (0, 7485)\t0.07961279856449366\n",
            "  (0, 7690)\t0.10316276615503131\n",
            "  (0, 7703)\t0.057687204737496826\n",
            "  (0, 8095)\t0.03273305183986614\n",
            "  (0, 10690)\t0.0390269903337603\n",
            "  (0, 10935)\t0.053077230442367646\n",
            "  (0, 10975)\t0.07212730718170765\n",
            "  (0, 11390)\t0.042947324110644544\n",
            "  (0, 11530)\t0.08616655830482718\n",
            "  :\t:\n",
            "  (1499, 59824)\t0.019900454713967654\n",
            "  (1499, 59958)\t0.020896045747381107\n",
            "  (1499, 60033)\t0.022118199913117056\n",
            "  (1499, 60056)\t0.012952812146981655\n",
            "  (1499, 60066)\t0.0336916403984266\n",
            "  (1499, 60242)\t0.024883958719238472\n",
            "  (1499, 60451)\t0.03880413860693353\n",
            "  (1499, 60802)\t0.01411826733187866\n",
            "  (1499, 60942)\t0.022458530509184817\n",
            "  (1499, 60947)\t0.043459658727955874\n",
            "  (1499, 61325)\t0.034687231431840056\n",
            "  (1499, 61492)\t0.11805963859355265\n",
            "  (1499, 61513)\t0.022833680931696427\n",
            "  (1499, 61563)\t0.05511105377218083\n",
            "  (1499, 61699)\t0.00923888369844583\n",
            "  (1499, 61743)\t0.028231568442687902\n",
            "  (1499, 61744)\t0.05060737791240728\n",
            "  (1499, 61810)\t0.02115458237513358\n",
            "  (1499, 61816)\t0.02132128752491558\n",
            "  (1499, 61819)\t0.026860998299594117\n",
            "  (1499, 61978)\t0.014774699607969849\n",
            "  (1499, 62059)\t0.02978559507553926\n",
            "  (1499, 62429)\t0.022247704123286364\n",
            "  (1499, 62811)\t0.0212111174413898\n",
            "  (1499, 62898)\t0.015438957183051575\n"
          ]
        }
      ],
      "source": [
        "print(tfid_test)"
      ]
    },
    {
      "cell_type": "code",
      "execution_count": 42,
      "id": "891a577e-28a1-4521-bc0f-d02142a8ec1f",
      "metadata": {
        "id": "891a577e-28a1-4521-bc0f-d02142a8ec1f",
        "outputId": "6e6bb29c-50ca-4f0b-fc70-1c0ab9a8426d",
        "colab": {
          "base_uri": "https://localhost:8080/"
        }
      },
      "outputs": [
        {
          "output_type": "stream",
          "name": "stdout",
          "text": [
            "['zwrotu' 'zwyci' 'zy' 'zyaira' 'zygankow' 'zylinderkopfdichtung' 'zynga'\n",
            " 'zytsov' 'zyuganov' 'zzzzs']\n"
          ]
        }
      ],
      "source": [
        "print(tfidvect.get_feature_names_out()[-10:])"
      ]
    },
    {
      "cell_type": "code",
      "execution_count": 43,
      "id": "52cb6396-6c4a-4f77-be30-25b18e42ca82",
      "metadata": {
        "id": "52cb6396-6c4a-4f77-be30-25b18e42ca82"
      },
      "outputs": [],
      "source": [
        "countvect = CountVectorizer(stop_words='english')\n",
        "count_train = countvect.fit_transform(X_train.values)\n",
        "count_test = countvect.transform(X_test.values)"
      ]
    },
    {
      "cell_type": "code",
      "execution_count": 44,
      "id": "ccaa2e57-f812-4bbf-8959-b27c1fe3a6e4",
      "metadata": {
        "id": "ccaa2e57-f812-4bbf-8959-b27c1fe3a6e4",
        "outputId": "ff9e7f3b-13c6-4e81-fad2-aa2588331209",
        "colab": {
          "base_uri": "https://localhost:8080/"
        }
      },
      "outputs": [
        {
          "output_type": "stream",
          "name": "stdout",
          "text": [
            "<Compressed Sparse Row sparse matrix of dtype 'int64'\n",
            "\twith 1397914 stored elements and shape (5486, 116917)>\n",
            "  Coords\tValues\n",
            "  (0, 608)\t1\n",
            "  (0, 610)\t1\n",
            "  (0, 617)\t1\n",
            "  (0, 649)\t1\n",
            "  (0, 739)\t2\n",
            "  (0, 742)\t1\n",
            "  (0, 743)\t1\n",
            "  (0, 964)\t1\n",
            "  (0, 1325)\t2\n",
            "  (0, 1359)\t1\n",
            "  (0, 1839)\t2\n",
            "  (0, 1845)\t1\n",
            "  (0, 1884)\t1\n",
            "  (0, 2105)\t1\n",
            "  (0, 2880)\t2\n",
            "  (0, 2882)\t1\n",
            "  (0, 2883)\t1\n",
            "  (0, 3481)\t4\n",
            "  (0, 3485)\t7\n",
            "  (0, 3499)\t1\n",
            "  (0, 4437)\t3\n",
            "  (0, 4731)\t1\n",
            "  (0, 4883)\t1\n",
            "  (0, 4887)\t1\n",
            "  (0, 5384)\t1\n",
            "  :\t:\n",
            "  (5485, 96848)\t5\n",
            "  (5485, 97650)\t1\n",
            "  (5485, 98159)\t2\n",
            "  (5485, 98435)\t1\n",
            "  (5485, 99123)\t1\n",
            "  (5485, 103967)\t1\n",
            "  (5485, 104271)\t1\n",
            "  (5485, 104377)\t3\n",
            "  (5485, 104982)\t1\n",
            "  (5485, 105466)\t2\n",
            "  (5485, 105699)\t1\n",
            "  (5485, 106478)\t4\n",
            "  (5485, 106574)\t1\n",
            "  (5485, 106600)\t1\n",
            "  (5485, 107849)\t1\n",
            "  (5485, 108456)\t1\n",
            "  (5485, 109805)\t1\n",
            "  (5485, 111446)\t1\n",
            "  (5485, 112423)\t1\n",
            "  (5485, 112605)\t2\n",
            "  (5485, 113875)\t1\n",
            "  (5485, 114130)\t1\n",
            "  (5485, 114669)\t1\n",
            "  (5485, 114803)\t1\n",
            "  (5485, 115553)\t1\n"
          ]
        }
      ],
      "source": [
        "print(count_test)"
      ]
    },
    {
      "cell_type": "code",
      "execution_count": 45,
      "id": "b6ef506a-213b-4b96-81ee-c96962de2a18",
      "metadata": {
        "id": "b6ef506a-213b-4b96-81ee-c96962de2a18",
        "outputId": "67f7cb44-b94c-460d-d2cb-fbe4139aed4d",
        "colab": {
          "base_uri": "https://localhost:8080/"
        }
      },
      "outputs": [
        {
          "output_type": "stream",
          "name": "stdout",
          "text": [
            "['aa' 'aaa' 'aaaaah' 'aaaaggg' 'aaah' 'aaahhh' 'aaany' 'aab' 'aabb'\n",
            " 'aachen']\n"
          ]
        }
      ],
      "source": [
        "print(countvect.get_feature_names_out()[:10])"
      ]
    },
    {
      "cell_type": "markdown",
      "id": "8a629151-fc88-4bf9-a22b-1e9119ba2363",
      "metadata": {
        "id": "8a629151-fc88-4bf9-a22b-1e9119ba2363"
      },
      "source": [
        "Training the model\n",
        "==="
      ]
    },
    {
      "cell_type": "markdown",
      "id": "f2aab7b8-424a-44ff-b7b7-bfd32cce8f08",
      "metadata": {
        "id": "f2aab7b8-424a-44ff-b7b7-bfd32cce8f08"
      },
      "source": [
        "Naive Bayes\n",
        "----"
      ]
    },
    {
      "cell_type": "markdown",
      "id": "16465f59-1298-4bac-9505-e8ad4bcd8d2b",
      "metadata": {
        "id": "16465f59-1298-4bac-9505-e8ad4bcd8d2b"
      },
      "source": [
        "Tf-idf Vectorize\n",
        "-"
      ]
    },
    {
      "cell_type": "code",
      "execution_count": 46,
      "id": "ae37ccef-f8e2-4ec0-a5c3-770d68565470",
      "metadata": {
        "id": "ae37ccef-f8e2-4ec0-a5c3-770d68565470"
      },
      "outputs": [],
      "source": [
        "from sklearn.naive_bayes import MultinomialNB\n",
        "from sklearn.metrics import accuracy_score, confusion_matrix"
      ]
    },
    {
      "cell_type": "code",
      "execution_count": 47,
      "id": "40d30324-8141-4de7-a3c5-68a985929343",
      "metadata": {
        "id": "40d30324-8141-4de7-a3c5-68a985929343"
      },
      "outputs": [],
      "source": [
        "model = MultinomialNB()\n",
        "model.fit(tfid_train,y_train)\n",
        "pred = model.predict(tfid_test)"
      ]
    },
    {
      "cell_type": "code",
      "execution_count": 48,
      "id": "ae6fc5ef-1837-4268-8069-ea17ea9c4e6d",
      "metadata": {
        "id": "ae6fc5ef-1837-4268-8069-ea17ea9c4e6d",
        "outputId": "528e27c9-4be3-49dd-92bb-4c204a8ce814",
        "colab": {
          "base_uri": "https://localhost:8080/"
        }
      },
      "outputs": [
        {
          "output_type": "execute_result",
          "data": {
            "text/plain": [
              "0.7876412686839227"
            ]
          },
          "metadata": {},
          "execution_count": 48
        }
      ],
      "source": [
        "accuracy_score(y_test,pred)"
      ]
    },
    {
      "cell_type": "code",
      "execution_count": 49,
      "id": "32df4b88-677c-4553-a207-769967b7e80c",
      "metadata": {
        "id": "32df4b88-677c-4553-a207-769967b7e80c"
      },
      "outputs": [],
      "source": [
        "cf = confusion_matrix(y_test,pred)"
      ]
    },
    {
      "cell_type": "code",
      "execution_count": 50,
      "id": "ccb96ca1-4a82-4d22-8fef-7307290f56f6",
      "metadata": {
        "id": "ccb96ca1-4a82-4d22-8fef-7307290f56f6",
        "outputId": "1bc1dc2f-f1f6-4c54-9363-5bd44704dd58",
        "colab": {
          "base_uri": "https://localhost:8080/",
          "height": 430
        }
      },
      "outputs": [
        {
          "output_type": "display_data",
          "data": {
            "text/plain": [
              "<Figure size 640x480 with 2 Axes>"
            ],
            "image/png": "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\n"
          },
          "metadata": {}
        }
      ],
      "source": [
        "sns.heatmap(cf,annot = True,fmt='d',cmap = 'viridis')\n",
        "plt.show()"
      ]
    },
    {
      "cell_type": "markdown",
      "id": "81a89f17-1991-4952-97e3-303e8581bf03",
      "metadata": {
        "id": "81a89f17-1991-4952-97e3-303e8581bf03"
      },
      "source": [
        "Count Vectorizer\n",
        "-"
      ]
    },
    {
      "cell_type": "code",
      "execution_count": 51,
      "id": "a0d74987-2f97-4ce3-939f-d5d93f0855bf",
      "metadata": {
        "id": "a0d74987-2f97-4ce3-939f-d5d93f0855bf"
      },
      "outputs": [],
      "source": [
        "model = MultinomialNB()\n",
        "model.fit(count_train,y_train)\n",
        "pred = model.predict(count_test)"
      ]
    },
    {
      "cell_type": "code",
      "execution_count": 52,
      "id": "314c844e-7a30-40c2-828c-a87681a2da0f",
      "metadata": {
        "id": "314c844e-7a30-40c2-828c-a87681a2da0f",
        "outputId": "03c38db8-72d1-47e9-eaa7-32cd6716fbd6",
        "colab": {
          "base_uri": "https://localhost:8080/"
        }
      },
      "outputs": [
        {
          "output_type": "execute_result",
          "data": {
            "text/plain": [
              "0.9039372949325556"
            ]
          },
          "metadata": {},
          "execution_count": 52
        }
      ],
      "source": [
        "model.score(count_test,y_test)"
      ]
    },
    {
      "cell_type": "code",
      "execution_count": 53,
      "id": "b3732586-d9c3-4374-9dc1-50365ad956dc",
      "metadata": {
        "id": "b3732586-d9c3-4374-9dc1-50365ad956dc"
      },
      "outputs": [],
      "source": [
        "cf = confusion_matrix(pred,y_test)"
      ]
    },
    {
      "cell_type": "code",
      "execution_count": 54,
      "id": "b0f3813b-55da-4e8f-b063-169dea0347ee",
      "metadata": {
        "id": "b0f3813b-55da-4e8f-b063-169dea0347ee",
        "outputId": "0f694172-4ae2-4740-8eef-fca602bbbfc3",
        "colab": {
          "base_uri": "https://localhost:8080/",
          "height": 430
        }
      },
      "outputs": [
        {
          "output_type": "display_data",
          "data": {
            "text/plain": [
              "<Figure size 640x480 with 2 Axes>"
            ],
            "image/png": "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\n"
          },
          "metadata": {}
        }
      ],
      "source": [
        "sns.heatmap(cf,annot = True, fmt = '.2f')\n",
        "plt.show()"
      ]
    },
    {
      "cell_type": "markdown",
      "id": "487fcbfc-2fd6-4995-be3f-1c6d739d73cb",
      "metadata": {
        "id": "487fcbfc-2fd6-4995-be3f-1c6d739d73cb"
      },
      "source": [
        "Random Forest\n",
        "---"
      ]
    },
    {
      "cell_type": "markdown",
      "id": "64c301ee-0f90-4cf5-9b2d-3fb48581c8f2",
      "metadata": {
        "id": "64c301ee-0f90-4cf5-9b2d-3fb48581c8f2"
      },
      "source": [
        "Tf-idf Vectorizer\n",
        "-"
      ]
    },
    {
      "cell_type": "code",
      "execution_count": 55,
      "id": "d2b30f09-6b4f-42e1-b13a-dfe8b6087c1c",
      "metadata": {
        "id": "d2b30f09-6b4f-42e1-b13a-dfe8b6087c1c"
      },
      "outputs": [],
      "source": [
        "from sklearn.ensemble import RandomForestClassifier"
      ]
    },
    {
      "cell_type": "code",
      "execution_count": 56,
      "id": "dc5caf59-4263-4693-8e1e-781496171994",
      "metadata": {
        "id": "dc5caf59-4263-4693-8e1e-781496171994",
        "outputId": "f3ab92ac-e47e-4a4f-890c-efb76f7f857e",
        "colab": {
          "base_uri": "https://localhost:8080/"
        }
      },
      "outputs": [
        {
          "output_type": "execute_result",
          "data": {
            "text/plain": [
              "0.9161502005103901"
            ]
          },
          "metadata": {},
          "execution_count": 56
        }
      ],
      "source": [
        "model = RandomForestClassifier()\n",
        "model.fit(tfid_train,y_train)\n",
        "pred = model.predict(tfid_test)\n",
        "model.score(tfid_test,y_test)"
      ]
    },
    {
      "cell_type": "code",
      "execution_count": 57,
      "id": "5d843a1d-8afe-4c4b-85a1-717f4474f56f",
      "metadata": {
        "id": "5d843a1d-8afe-4c4b-85a1-717f4474f56f"
      },
      "outputs": [],
      "source": [
        "cf = confusion_matrix(pred,y_test)"
      ]
    },
    {
      "cell_type": "code",
      "execution_count": 58,
      "id": "8ae8d598-f9d3-4a77-8756-2be73f5bc83d",
      "metadata": {
        "id": "8ae8d598-f9d3-4a77-8756-2be73f5bc83d",
        "outputId": "6ae258f0-4da2-4738-dea2-211abde651e4",
        "colab": {
          "base_uri": "https://localhost:8080/",
          "height": 430
        }
      },
      "outputs": [
        {
          "output_type": "display_data",
          "data": {
            "text/plain": [
              "<Figure size 640x480 with 2 Axes>"
            ],
            "image/png": "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\n"
          },
          "metadata": {}
        }
      ],
      "source": [
        "sns.heatmap(cf,annot =True, fmt ='d')\n",
        "plt.show()"
      ]
    },
    {
      "cell_type": "markdown",
      "id": "1ddaa7ea-8d18-4a79-8360-b2d43c96c240",
      "metadata": {
        "id": "1ddaa7ea-8d18-4a79-8360-b2d43c96c240"
      },
      "source": [
        "Count Vectorizer\n",
        "-"
      ]
    },
    {
      "cell_type": "code",
      "execution_count": 59,
      "id": "c433421b-2eed-456f-a489-009244ee0c75",
      "metadata": {
        "id": "c433421b-2eed-456f-a489-009244ee0c75",
        "outputId": "761e8c2b-1d81-4f97-f041-61aaaa4ae9c4",
        "colab": {
          "base_uri": "https://localhost:8080/"
        }
      },
      "outputs": [
        {
          "output_type": "execute_result",
          "data": {
            "text/plain": [
              "0.9108640174990886"
            ]
          },
          "metadata": {},
          "execution_count": 59
        }
      ],
      "source": [
        "model = RandomForestClassifier()\n",
        "model.fit(count_train,y_train)\n",
        "pred = model.predict(count_test)\n",
        "model.score(count_test,y_test)"
      ]
    },
    {
      "cell_type": "code",
      "execution_count": 60,
      "id": "af172f38-f66a-4fec-b01b-a08a12639e25",
      "metadata": {
        "id": "af172f38-f66a-4fec-b01b-a08a12639e25"
      },
      "outputs": [],
      "source": [
        "cf = confusion_matrix(pred,y_test)"
      ]
    },
    {
      "cell_type": "code",
      "execution_count": 61,
      "id": "c987cc07-da3f-46ec-a7bd-a43a0630c88b",
      "metadata": {
        "id": "c987cc07-da3f-46ec-a7bd-a43a0630c88b",
        "outputId": "9573d157-9842-422e-d3f6-4c7091c5f073",
        "colab": {
          "base_uri": "https://localhost:8080/",
          "height": 430
        }
      },
      "outputs": [
        {
          "output_type": "display_data",
          "data": {
            "text/plain": [
              "<Figure size 640x480 with 2 Axes>"
            ],
            "image/png": "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\n"
          },
          "metadata": {}
        }
      ],
      "source": [
        "sns.heatmap(cf,annot = True, fmt= 'd')\n",
        "plt.show()"
      ]
    },
    {
      "cell_type": "markdown",
      "id": "5af0269f-77ec-4cae-9597-932ed9daa4a7",
      "metadata": {
        "id": "5af0269f-77ec-4cae-9597-932ed9daa4a7"
      },
      "source": [
        "K-Nearest Neighbours\n",
        "---"
      ]
    },
    {
      "cell_type": "markdown",
      "id": "fdacfa75-de4b-46d3-8031-d002def97933",
      "metadata": {
        "id": "fdacfa75-de4b-46d3-8031-d002def97933"
      },
      "source": [
        "Tf-idf Vectorize\n",
        "-"
      ]
    },
    {
      "cell_type": "code",
      "execution_count": 62,
      "id": "db5505e2-9a27-4c17-909f-0affba2d524b",
      "metadata": {
        "id": "db5505e2-9a27-4c17-909f-0affba2d524b"
      },
      "outputs": [],
      "source": [
        "from sklearn.neighbors import KNeighborsClassifier"
      ]
    },
    {
      "cell_type": "code",
      "execution_count": 63,
      "id": "552ff853-e0e7-46ab-b0f3-ead6a75d0276",
      "metadata": {
        "id": "552ff853-e0e7-46ab-b0f3-ead6a75d0276",
        "outputId": "3efc390f-4af7-4e30-cd2a-c5641de4e89d",
        "colab": {
          "base_uri": "https://localhost:8080/"
        }
      },
      "outputs": [
        {
          "output_type": "execute_result",
          "data": {
            "text/plain": [
              "0.492344148742253"
            ]
          },
          "metadata": {},
          "execution_count": 63
        }
      ],
      "source": [
        "model = KNeighborsClassifier().fit(tfid_train,y_train)\n",
        "pred = model.predict(tfid_test)\n",
        "model.score(tfid_test,y_test)"
      ]
    },
    {
      "cell_type": "code",
      "execution_count": 64,
      "id": "6be54854-02fe-4214-9626-266450fcf1c7",
      "metadata": {
        "id": "6be54854-02fe-4214-9626-266450fcf1c7",
        "outputId": "d5092b58-8368-4467-bfbe-bf04be74c285",
        "colab": {
          "base_uri": "https://localhost:8080/",
          "height": 430
        }
      },
      "outputs": [
        {
          "output_type": "display_data",
          "data": {
            "text/plain": [
              "<Figure size 640x480 with 2 Axes>"
            ],
            "image/png": "iVBORw0KGgoAAAANSUhEUgAAAhAAAAGdCAYAAABDxkoSAAAAOnRFWHRTb2Z0d2FyZQBNYXRwbG90bGliIHZlcnNpb24zLjEwLjAsIGh0dHBzOi8vbWF0cGxvdGxpYi5vcmcvlHJYcgAAAAlwSFlzAAAPYQAAD2EBqD+naQAAK7pJREFUeJzt3Xt8VNXZ9vFrQpIhHBIIkEwiiByUgyCHgCEKKJKHcIairSgqKIrwBN5CFGmeIlC1RpEqoFDUloMVFK2CChWIwZAKATRtkIOgSCAgTAAhxATJaeb9wzJ1NoGdrRNm1N+3n92SvdesrOFT4Mp9r73H5na73QIAALAgyN8LAAAAPz0ECAAAYBkBAgAAWEaAAAAAlhEgAACAZQQIAABgGQECAABYRoAAAACWESAAAIBlwf5ewHkdonv4ewlAwNl7+rC/lwAEpIqyr2p0/vKTB3w2V0jjlj6bK5AETIAAACBguCr9vYKARwsDAABYRgUCAAAjt8vfKwh4BAgAAIxcBAgzBAgAAAzcVCBMsQcCAABYRgUCAAAjWhimCBAAABjRwjBFCwMAAFhGBQIAACMeJGWKAAEAgBEtDFO0MAAAgGVUIAAAMOIuDFMECAAADHiQlDlaGAAAwDIqEAAAGNHCMEWAAADAiBaGKQIEAABGPAfCFHsgAACAZVQgAAAwooVhigABAIARmyhN0cIAAACWUYEAAMCIFoYpAgQAAEa0MEzRwgAAAJZRgQAAwMDt5jkQZggQAAAYsQfCFC0MAABgGRUIAACM2ERpigABAIARLQxTBAgAAIz4MC1T7IEAAACWESAAADByu3x3WJCWlqbu3burfv36ioqK0vDhw7Vv3z6vMTfffLNsNpvXMX78eK8x+fn5GjRokOrUqaOoqChNnTpVFRUVXmMyMzPVtWtX2e12tW7dWkuXLrW0VgIEAABGLpfvDgs2bdqk5ORkbd26Venp6SovL1e/fv1UUlLiNe6BBx7QsWPHPMfs2bM91yorKzVo0CCVlZVpy5YtWrZsmZYuXaoZM2Z4xuTl5WnQoEHq06ePcnNzNXnyZN1///1av359tddqc7vdbkvvroZ0iO7h7yUAAWfv6cP+XgIQkCrKvqrR+c9tXemzuWr3uP0Hv/bEiROKiorSpk2b1Lt3b0nfVSA6d+6suXPnVvma999/X4MHD9bRo0cVHR0tSVq0aJGmTZumEydOKDQ0VNOmTdPatWu1a9cuz+tGjhypwsJCrVu3rlprowIBAICRD1sYpaWlKioq8jpKS0urtYwzZ85IkiIjI73OL1++XI0bN1aHDh2Umpqqs2fPeq5lZ2erY8eOnvAgSUlJSSoqKtLu3bs9YxITE73mTEpKUnZ2drV/iwgQAAAY+bCFkZaWpoiICK8jLS2tGktwafLkybrxxhvVoUMHz/k777xTr776qj788EOlpqbqb3/7m+666y7PdafT6RUeJHm+djqdlxxTVFSkb7/9tlq/RdzGCQBADUpNTVVKSorXObvdbvq65ORk7dq1Sx999JHX+XHjxnl+3bFjR8XExKhv37768ssv1apVK98suhoIEAAAGPnwSZR2u71ageH7Jk6cqDVr1igrK0tNmza95Nj4+HhJ0v79+9WqVSs5HA5t377da0xBQYEkyeFweP73/LnvjwkPD1dYWFi11kgLAwAAA7e70meHte/r1sSJE7Vq1Spt3LhRLVq0MH1Nbm6uJCkmJkaSlJCQoJ07d+r48eOeMenp6QoPD1f79u09YzIyMrzmSU9PV0JCQrXXSoAAACBAJCcn69VXX9WKFStUv359OZ1OOZ1Oz76EL7/8Uo8//rhycnJ08OBBvfvuu7rnnnvUu3dvXXfddZKkfv36qX379rr77ru1Y8cOrV+/XtOnT1dycrKnEjJ+/HgdOHBAjzzyiPbu3auFCxfqjTfe0JQpU6q9Vm7jBAIYt3ECVavp2zi/zVzss7nCbr6v2mNtNluV55csWaIxY8bo8OHDuuuuu7Rr1y6VlJSoWbNm+tWvfqXp06crPDzcM/7QoUOaMGGCMjMzVbduXY0ePVpPPfWUgoP/u3MhMzNTU6ZM0Z49e9S0aVM9+uijGjNmTPXXSoAAAhcBAqhajQeID//is7nC+tzvs7kCCZsoAQAw4uO8TbEHAgAAWEYFAgAAI4sfgvVLRIAAAMCIFoYpWhgAAMAyKhAAABjRwjBFgAAAwIgWhilaGAAAwDIqEAAAGFGBMEWAAADAiD0QpmhhAAAAy6hAAABgRAvDFAECAAAjWhimCBAAABhRgTDFHggAAGAZFQgAAIxoYZgiQAAAYEQLwxQtDAAAYBkVCAAAjKhAmCJAAABg5Hb7ewUBjxYGAACwjAoEAABGtDBMESAAADAiQJiihQEAACyjAgEAgBEPkjJFgAAAwIgWhikCBAAARtzGaYo9EAAAwDIqEAAAGNHCMEWAAADAiABhihYGAACwjAoEAABG3MZpigABAICB28VdGGZoYQAAAMuoQAAAYMQmSlMECAAAjNgDYYoWBgAAsIwKBAAARmyiNEWAAADAiD0QpggQAAAYESBMsQcCAABYRgUCAAAjPs7bFBWIX4DbR4/Q2x++qq37M7R1f4ZeXfuyet6SIEkKbxCu1Ccf0nubV+qTg5lKz1mt1D+mqF79ul5zdOjcTn/5+/Pa8nm6Nu/boBdfn6s27Vv74+0Al1VsrEPLls5XwbFd+ubMfv37Xx8orut1/l4WaprL5bvjZ4oKxC+A89hxPffEAh06cEQ2mzTs9kF6ftls3ZZ4j2w2m6KiG2vOH57XgX15imnm0IzZ09QkurFS7v8/SVJYnTAtem2uPlz/Tz0x7RnVCq6l5KkP6MWV85TYZagqKir9/A6BmtGgQYSyMlcrc9MWDR5yl06c/FpXt26h04Vn/L00wO9sbndg1Gk6RPfw9xJ+UTbvXa8/PfaC3l7x3gXX+g25RU8tmKXuLfqosrJS13Zqq5Ubliqxy1A5jx6XJF3drpVWZS7XgPjbdPjgkcu9/F+MvacP+3sJv2hP/jFVNyR01823jPD3UmBQUfZVjc5/ds79PpurzsN/8dlcgYQWxi9MUFCQBgxPVFidMOV+srPKMfXD66n4mxJVVn5XWcjbn6/TXxdqxJ1DFRwSLHttu0bcOURf7svT0cPHLufygctq8OB+ysn5VK+/9qKOHtmhj7ev19j77vT3snA5uF2+O36mLLcwTp48qcWLFys7O1tOp1OS5HA4dMMNN2jMmDFq0qSJzxeJH+/qdq20fO3LCrWH6mzJt/rtvdN04PODF4xrEBmhB6fcq7+/+o7n3NmSs7p3xP9q/tKn9WDKvZKkQwcO68GRkz0hA/g5atniSj344N2aO+9lPfX0fHWL66y5zz2msvJy/e1vb/p7eYBfWWphfPzxx0pKSlKdOnWUmJio6OhoSVJBQYEyMjJ09uxZrV+/Xt26dbvkPKWlpSotLfU616N1ooJsFERqSnBIsGKucKh+eF31G3KLRtw5VGN+NcErRNStV0cvv/m8zpwu0qR7HvbsbbDXtmvJqoXK++KgXlv8dwXVCtKYCaPU4urmGpl0n0rPlV7ku+LHooXhX2eL85ST86l63TTMc+65Zx9T926d1bP3UD+uDDXewnj6Xp/NVWfaEp/NFUgsVSAmTZqkX//611q0aJFsNpvXNbfbrfHjx2vSpEnKzs6+5DxpaWn6wx/+4HWuSZ0rFFWvqZXlwIKK8grPXoU9n+7TtZ3b664HbtdjU5+WJNWpW0cvvj5XJcVn9dt7p3ltjBw0op+uaBajUQPv1/m8+ciEGdryebpu6d9L76/+4PK/IeAyOHbsuPZ89rnXub1792vErwb6aUW4XNw/47snfMXSj/w7duzQlClTLggPkmSz2TRlyhTl5uaazpOamqozZ854HY3rxlpZCn6koCCbQkNDJX1XeXjpjXkqL6vQpHseVllpmdfY2mG15XK59P1ildvlltxu2YKoGuHna0v2x2pzTSuvc9dc3VL5+TX70y/wU2Dpb3+Hw6Ht27df9Pr27ds9bY1LsdvtCg8P9zpoX9Scyb+foLgenRXbLEZXt2ulyb+foO43dNXat9b/JzzMV506YZox5Y+qW6+uGjWJVKMmkQr6TzjI3rRd4RH1Nf2pqWp59VVq1aaFnpg3XRUVldr+UY6f3x1Qc+bNe1nx8V31u2mT1KrVVRo5crjuv3+UFi5a6u+loaa53L47fqYstTAefvhhjRs3Tjk5Oerbt+8FeyBefvllzZkzp0YWih8usnFDPfn8TDWJbqRvvinW53u+1IO3T1Z21nZ1v6GrOsV1kCS9v/0tr9f16/YrHT18THn7D2ni3VM14eGxenXty3K7XPps1+caf8dknTz+tT/eEnBZfJKzQ7f9+n498cTvNP33k5V38LBSHpqp115b5e+loab9jO+e8BXLz4FYuXKlnnvuOeXk5Hh24NeqVUtxcXFKSUnRb37zmx+0EJ4DAVyITZRA1Wp6E2XJY6N8NlfdGct9NlcgsXwb5+23367bb79d5eXlOnnypCSpcePGCgkJ8fniAABAYPrBj7IOCQlRTEyML9cCAEBg4C4MU+xcBADAyE+bKNPS0tS9e3fVr19fUVFRGj58uPbt2+c15ty5c0pOTlajRo1Ur1493XrrrSooKPAak5+fr0GDBqlOnTqKiorS1KlTVVFR4TUmMzNTXbt2ld1uV+vWrbV06VJLayVAAAAQIDZt2qTk5GRt3bpV6enpKi8vV79+/VRSUuIZM2XKFL333nt68803tWnTJh09elQjRvz381oqKys1aNAglZWVacuWLVq2bJmWLl2qGTNmeMbk5eVp0KBB6tOnj3JzczV58mTdf//9Wr9+fbXXyodpAQGMTZRA1Wp8E+WjP+yGgKrUffyNH/zaEydOKCoqSps2bVLv3r115swZNWnSRCtWrNBtt90mSdq7d6/atWun7Oxs9ejRQ++//74GDx6so0ePeu6WXLRokaZNm6YTJ04oNDRU06ZN09q1a7Vr1y7P9xo5cqQKCwu1bt26aq2NCgQAAEYB8hyIM2e+++j4yMhISVJOTo7Ky8uVmJjoGdO2bVtdeeWVnqdAZ2dnq2PHjl7PZUpKSlJRUZF2797tGfP9Oc6PMXuS9Pf94E2UAADAXFWf/2S322W32y/5OpfLpcmTJ+vGG29Uhw7fPa/H6XQqNDRUDRo08BobHR3t+YBLp9N5wUMdz39tNqaoqEjffvutwsLCTN8XFQgAAAzcLpfPjrS0NEVERHgdaWlppmtITk7Wrl279Prrr1+Gd2wdFQgAAIx8+Ajq1NRUpaSkeJ0zqz5MnDhRa9asUVZWlpo2/e8HTTocDpWVlamwsNCrClFQUCCHw+EZY/zYifN3aXx/jPHOjYKCAoWHh1er+iBRgQAAoEZV9flPFwsQbrdbEydO1KpVq7Rx40a1aNHC63pcXJxCQkKUkZHhObdv3z7l5+crISFBkpSQkKCdO3fq+PHjnjHp6ekKDw9X+/btPWO+P8f5MefnqA4qEAAAGPnpQ7CSk5O1YsUKvfPOO6pfv75nz0JERITCwsIUERGhsWPHKiUlRZGRkQoPD9ekSZOUkJCgHj2+u5uxX79+at++ve6++27Nnj1bTqdT06dPV3Jysie4jB8/Xi+88IIeeeQR3Xfffdq4caPeeOMNrV27ttpr5TZOIIBxGydQtZq+jbP44WE+m6venHeqPdZms1V5fsmSJRozZoyk7x4k9dBDD+m1115TaWmpkpKStHDhQk97QpIOHTqkCRMmKDMzU3Xr1tXo0aP11FNPKTj4v3WDzMxMTZkyRXv27FHTpk316KOPer5HtdZKgAACFwECqFqNB4iUoT6bq96z7/psrkDCHggAAGAZeyAAADBw+2kPxE8JAQIAACMChClaGAAAwDIqEAAAGLlc/l5BwCNAAABgRAvDFC0MAABgGRUIAACMqECYIkAAAGAQIM9YDGi0MAAAgGVUIAAAMKKFYYoAAQCAEQHCFAECAAADHmVtjj0QAADAMioQAAAYUYEwRYAAAMCIJ1mbooUBAAAsowIBAIABmyjNESAAADAiQJiihQEAACyjAgEAgBGbKE0RIAAAMGAPhDlaGAAAwDIqEAAAGNHCMEWAAADAgBaGOQIEAABGVCBMsQcCAABYRgUCAAADNxUIUwQIAACMCBCmaGEAAADLqEAAAGBAC8McAQIAACMChClaGAAAwDIqEAAAGNDCMEeAAADAgABhjgABAIABAcIceyAAAIBlVCAAADBy2/y9goBHgAAAwIAWhjlaGAAAwDIqEAAAGLhdtDDMECAAADCghWGOFgYAALCMCgQAAAZu7sIwRYAAAMCAFoY5WhgAAMAyKhAAABhwF4Y5AgQAAAZut79XEPgIEAAAGFCBMMceCAAAYBkVCAAADKhAmCNAAABgwB4Ic7QwAACAZVQgAAAwoIVhjgABAIABj7I2RwsDAABYRoAAAMDA7fLdYUVWVpaGDBmi2NhY2Ww2rV692uv6mDFjZLPZvI7+/ft7jTl16pRGjRql8PBwNWjQQGPHjlVxcbHXmE8//VS9evVS7dq11axZM82ePdvy7xEBAgAAA5fb5rPDipKSEnXq1EkLFiy46Jj+/fvr2LFjnuO1117zuj5q1Cjt3r1b6enpWrNmjbKysjRu3DjP9aKiIvXr10/NmzdXTk6OnnnmGc2aNUsvvfSSpbWyBwIAgAAxYMAADRgw4JJj7Ha7HA5Hldc+++wzrVu3Th9//LG6desmSXr++ec1cOBAzZkzR7GxsVq+fLnKysq0ePFihYaG6tprr1Vubq6effZZr6BhhgoEAAAGbrfNZ0dpaamKioq8jtLS0h+8tszMTEVFRalNmzaaMGGCvv76a8+17OxsNWjQwBMeJCkxMVFBQUHatm2bZ0zv3r0VGhrqGZOUlKR9+/bp9OnT1V4HAQIAAAO3y+azIy0tTREREV5HWlraD1pX//799corrygjI0NPP/20Nm3apAEDBqiyslKS5HQ6FRUV5fWa4OBgRUZGyul0esZER0d7jTn/9fkx1UELAwAAA18+iTI1NVUpKSle5+x2+w+aa+TIkZ5fd+zYUdddd51atWqlzMxM9e3b90et0yoqEAAA1CC73a7w8HCv44cGCKOWLVuqcePG2r9/vyTJ4XDo+PHjXmMqKip06tQpz74Jh8OhgoICrzHnv77Y3oqqECAAADDwZQujJh05ckRff/21YmJiJEkJCQkqLCxUTk6OZ8zGjRvlcrkUHx/vGZOVlaXy8nLPmPT0dLVp00YNGzas9vcmQAAAYOCv2ziLi4uVm5ur3NxcSVJeXp5yc3OVn5+v4uJiTZ06VVu3btXBgweVkZGhYcOGqXXr1kpKSpIktWvXTv3799cDDzyg7du3a/PmzZo4caJGjhyp2NhYSdKdd96p0NBQjR07Vrt379bKlSs1b968C9osZggQAAAEiE8++URdunRRly5dJEkpKSnq0qWLZsyYoVq1aunTTz/V0KFDdc0112js2LGKi4vTP//5T6+WyPLly9W2bVv17dtXAwcOVM+ePb2e8RAREaENGzYoLy9PcXFxeuihhzRjxgxLt3BKks3tDowPLe0Q3cPfSwACzt7Th/29BCAgVZR9VaPz72wxxGdzdcx7z2dzBRLuwgAAwCAwfrQObLQwAACAZVQgAAAwsLr58ZeIAAEAgIGbAGGKFgYAALCMCgQAAAZsojRHgAAAwIA9EOYCJkD8e/cKfy8BCDgVW1f7ewnALxJ7IMyxBwIAAFgWMBUIAAACBS0McwQIAAAM2ENpjhYGAACwjAoEAAAGtDDMESAAADDgLgxztDAAAIBlVCAAADBw+XsBPwEECAAADNyihWGGFgYAALCMCgQAAAYuHgRhigABAICBixaGKQIEAAAG7IEwxx4IAABgGRUIAAAMuI3THAECAAADWhjmaGEAAADLqEAAAGBAC8McAQIAAAMChDlaGAAAwDIqEAAAGLCJ0hwBAgAAAxf5wRQtDAAAYBkVCAAADPgsDHMECAAADPgwTnMECAAADLiN0xx7IAAAgGVUIAAAMHDZ2ANhhgABAIABeyDM0cIAAACWUYEAAMCATZTmCBAAABjwJEpztDAAAIBlVCAAADDgSZTmCBAAABhwF4Y5WhgAAMAyKhAAABiwidIcAQIAAANu4zRHgAAAwIA9EObYAwEAACyjAgEAgAF7IMwRIAAAMGAPhDlaGAAAwDIqEAAAGFCBMEeAAADAwM0eCFO0MAAAgGVUIAAAMKCFYY4AAQCAAQHCHC0MAAACRFZWloYMGaLY2FjZbDatXr3a67rb7daMGTMUExOjsLAwJSYm6osvvvAac+rUKY0aNUrh4eFq0KCBxo4dq+LiYq8xn376qXr16qXatWurWbNmmj17tuW1EiAAADBw+/CwoqSkRJ06ddKCBQuqvD579mzNnz9fixYt0rZt21S3bl0lJSXp3LlznjGjRo3S7t27lZ6erjVr1igrK0vjxo3zXC8qKlK/fv3UvHlz5eTk6JlnntGsWbP00ksvWVorLQwAAAz89STKAQMGaMCAAVVec7vdmjt3rqZPn65hw4ZJkl555RVFR0dr9erVGjlypD777DOtW7dOH3/8sbp16yZJev755zVw4EDNmTNHsbGxWr58ucrKyrR48WKFhobq2muvVW5urp599lmvoGGGCgQAAAYuHx6lpaUqKiryOkpLSy2vKS8vT06nU4mJiZ5zERERio+PV3Z2tiQpOztbDRo08IQHSUpMTFRQUJC2bdvmGdO7d2+FhoZ6xiQlJWnfvn06ffp0tddDgAAAoAalpaUpIiLC60hLS7M8j9PplCRFR0d7nY+OjvZcczqdioqK8roeHBysyMhIrzFVzfH971EdtDAAADDw5V0YqampSklJ8Tpnt9t9+B38gwABAICB1c2Pl2K3230SGBwOhySpoKBAMTExnvMFBQXq3LmzZ8zx48e9XldRUaFTp055Xu9wOFRQUOA15vzX58dUBy0MAAB+Alq0aCGHw6GMjAzPuaKiIm3btk0JCQmSpISEBBUWFionJ8czZuPGjXK5XIqPj/eMycrKUnl5uWdMenq62rRpo4YNG1Z7PQQIAAAMXDbfHVYUFxcrNzdXubm5kr7bOJmbm6v8/HzZbDZNnjxZTzzxhN59913t3LlT99xzj2JjYzV8+HBJUrt27dS/f3898MAD2r59uzZv3qyJEydq5MiRio2NlSTdeeedCg0N1dixY7V7926tXLlS8+bNu6DNYoYWBgAABv56EuUnn3yiPn36eL4+/4/66NGjtXTpUj3yyCMqKSnRuHHjVFhYqJ49e2rdunWqXbu25zXLly/XxIkT1bdvXwUFBenWW2/V/PnzPdcjIiK0YcMGJScnKy4uTo0bN9aMGTMs3cIpSTa32+3LVs8PVn7ygL+XAASciq2r/b0EICCFDbb207JVTzW/y2dz/e7Qqz6bK5BQgQAAwCAgfrIOcAQIAAAMXEQIU2yiBAAAllGBAADAgI/zNkeAAADAgAaGOQIEAAAGVCDMsQcCAABYRgUCAAADq0+Q/CUiQAAAYMBtnOZoYQAAAMuoQAAAYED9wRwBAgAAA+7CMEcLAwAAWEYFAgAAAzZRmiNAAABgQHwwRwsDAABYRgUCAAADNlGaI0AAAGDAHghzBAgAAAyID+bYAwEAACyjAgEAgAF7IMwRIAAAMHDTxDBFCwMAAFhGBQIAAANaGOYIEAAAGHAbpzlaGAAAwDIqEAAAGFB/MEeA+Jl5+ZWV+mDTZuUdOqLa9lB17theUybcpxbNm0qSvjpWoKTbxlT52j89/n9KuqWXVq9N1/Qnn61yzKY1r6lRwwaSpNfeek8r3npPR48VKCa6iR4YPVLDBiTWxNsCfrS/ZvxbGTvzdPB4oewhtdSpuUOTB8frqqgGnjGPv5mlbV98pRNnSlTHHqJOV0Xrt4Pi1SK6oSTpne37NHNlZpXzb5x1jyLrh+nfB45p7tptOni8UOfKKhTTsL5uTWinu2+67jK8S/gKLQxzBIifmU9yd+qOEUPUod01qqis1LwXl2rclN/rneUvqk5YbTmiGivz3eVer3nznfe1ZMVb6tWjmySpf2Jv9ewR5zXm9398VqVlZZ7w8PqqNZq7aIlmTfutOrS7Rjs/26dZT81XRP16urlnj8vyXgErcr48qttvuFbXXtlElS63nv/Hdk14aa3envobhdlDJEntmjbWwK6t5WhYX0Vnz2nR+hxNeOkfWvv7O1QrKEhJXVrpxrbNvOad8fqHKq2oVGT9MElSWGiIRt7YQVfHRiosNES5ecf0+N//qbDQYN2W0P6yv2+gphAgfmZefPYJr6//+PsU9R58h/bs+0LdOndUrVq11LhRpNeYjKwtSurbS3XqfPcXYG27XbXtds/1U6cLtS1nhx5Lnew59966jfr1sIEakHiTJKnZFTHa/dkX+uvyNwkQCEgLxw3y+vqxkTfrlpmvaM+RE4prFStJXv/AXxFZX8kDuus3f/q7jp76Rs0aR6h2SLBqh/z3r81Txd9q+/6jmvWbmzzn2jZtrLZNG3vNk7EzT//OcxIgfkK4C8Mcmyh/5opLzkqSIsLrV3l9994vtPeLAxoxOOmic7y7LkNhte3q16en51x5ebnsoaFe4+z2UO3c87nKKyp8sHKgZhWfK5MkRdSpXeX1b0vL9c7H+3RFZH05GtSrcsyaTz5X7ZBgJXZqedHvs/fISe04WKC4ljE/ftG4bNw+/M/PFRWInzGXy6Wn5r2oLte119Utr6pyzNtr1qvlVc3UpePFfzJ6e816Dfyfm72qEjdcH6e31qzTLb0T1L5Na+3e+4Xeem+9KioqVFhYpCaNIy86H+BvLpdbz6zeos5XOdQ6xvv/qys379bcNVv1bVmFrmrSQIseHKSQ4FpVzrN6+14N6NraqypxXr/HXtXp4m9V6XJrfFKcRvRoVyPvBTWDCoQ5nweIw4cPa+bMmVq8ePFFx5SWlqq0tNTrXFBpqezf+wcKP94Tf1qg/QcO6pU/z6ny+rnSUv0jPVMPjrnjonPk7vpMBw4eVtqjU73Oj7/3Dp08dUqjxk2RW241athQwwb01eLlf5ctyObT9wH4WtrbH2m/85SWThx2wbWBXVurxzVNdbKoRK9kfqpH/vaBlk4cJrshJOw46NSBgkI9ccctVX6PJclDdbasXJ8eOq75a7epWaMIDejaukbeD+APPm9hnDp1SsuWLbvkmLS0NEVERHgdT89b5Oul/KL98U8LtWnLdi1+/mk5oppUOWbDhx/p23OlGtq/70Xneeu9dWp7dUtd2/Zqr/O17XY98X8p+njjaq3/+1Klv71MsTHRqlsnTJENInz6XgBfSnv7I2XtOaS/TBii6CpaE/XD7GreJEJxrWI1Z/T/KO94oTbuPHjBuFXb9qpNbCO1b1b1n68rGoXr6phGurVHO93V+zot2vCJr98KahAtDHOWKxDvvvvuJa8fOHDAdI7U1FSlpKR4nQv65iurS0EV3G63nnz2z8rI2qIlLzytprGOi459e8169ekZr8j/3FlhdPbst1qf8U9NHj/monOEBAd7Asq6DzbpphvjFRTE1hoEHrfbradWbdbGnXn6y/8O1RWNws1f85//Kquo9Dp/trRcG3Yc0P8beH21vrfL7b5gDgQ2WhjmLAeI4cOHy2azye2+eKqy2S5dwrbb7Re0K8rLTlpdCqrwxJ8W6B/pmZr/1AzVrROmk1+fkiTVq1fXaw9D/pGjysndpT/Peeyic72fkaXKykoNTrqwRHsw/4h2fva5rmvfRkXfFGvZ62/riwOH9MfpD/v+TQE+8OTbH+n9f+3X3PuSVNceopNF320wrhcWqtohwTrydZHW536phGuaqmG92iooLNGSjbmyh9RSr3ZXes21PvdLVVa6NDDu6gu+z+sf7VJMw3q6Kuq7Z0f868AxvZK5Q3f06lDzbxK4jCwHiJiYGC1cuFDDhl3YO5Sk3NxcxcXFVXkNNW/lqrWSpHsnTvM6/8T/pWj4oP/xfP32mg2KjmqsG67vetG53l6zXok33aDw+heWeStdLi177S0dzP9KwcG1dH3XTnp10bO6IibaR+8E8K03t+yRJN2/8D2v83+4/WYNu76NQoNr6V8Hjml51k4VfVuqRvXC1LVljJZNGu55xsN5q7bt1S0dWyg87MJ9W263NP8f2/XVqW8UHBSkpo3C9dvB8bqtB7dw/pS4LvFDMr5jc1+qlFCFoUOHqnPnznrssap/ct2xY4e6dOkil8taAaj8pHnrA/ilqdi62t9LAAJS2OAU80E/wl3NR/hsrlcPve2zuQKJ5QrE1KlTVVJSctHrrVu31ocffvijFgUAAAKb5QDRq1evS16vW7eubrrppkuOAQAgkPFZGOZ4kBQAAAY/59svfYX77QAAgGVUIAAAMOA5EOYIEAAAGLAHwhwBAgAAA/ZAmGMPBAAAsIwKBAAABuyBMEeAAADAwOJDmn+RaGEAAADLqEAAAGDAXRjmCBAAABiwB8IcLQwAAGAZFQgAAAx4DoQ5AgQAAAbsgTBHCwMAAFhGgAAAwMDtdvvssGLWrFmy2WxeR9u2bT3Xz507p+TkZDVq1Ej16tXTrbfeqoKCAq858vPzNWjQINWpU0dRUVGaOnWqKioqfPL78n20MAAAMPDnXRjXXnutPvjgA8/XwcH//ad6ypQpWrt2rd58801FRERo4sSJGjFihDZv3ixJqqys1KBBg+RwOLRlyxYdO3ZM99xzj0JCQvTkk0/6dJ0ECAAADPy5iTI4OFgOh+OC82fOnNFf//pXrVixQrfccoskacmSJWrXrp22bt2qHj16aMOGDdqzZ48++OADRUdHq3Pnznr88cc1bdo0zZo1S6GhoT5bJy0MAABqUGlpqYqKiryO0tLSi47/4osvFBsbq5YtW2rUqFHKz8+XJOXk5Ki8vFyJiYmesW3bttWVV16p7OxsSVJ2drY6duyo6Ohoz5ikpCQVFRVp9+7dPn1fBAgAAAxccvvsSEtLU0REhNeRlpZW5feNj4/X0qVLtW7dOv35z39WXl6eevXqpW+++UZOp1OhoaFq0KCB12uio6PldDolSU6n0ys8nL9+/pov0cIAAMDAlx+mlZqaqpSUFK9zdru9yrEDBgzw/Pq6665TfHy8mjdvrjfeeENhYWE+W5MvUIEAAKAG2e12hYeHex0XCxBGDRo00DXXXKP9+/fL4XCorKxMhYWFXmMKCgo8eyYcDscFd2Wc/7qqfRU/BgECAAADX7Ywfozi4mJ9+eWXiomJUVxcnEJCQpSRkeG5vm/fPuXn5yshIUGSlJCQoJ07d+r48eOeMenp6QoPD1f79u1/1FqMaGEAAGDgr7swHn74YQ0ZMkTNmzfX0aNHNXPmTNWqVUt33HGHIiIiNHbsWKWkpCgyMlLh4eGaNGmSEhIS1KNHD0lSv3791L59e919992aPXu2nE6npk+fruTk5GpXPaqLAAEAQIA4cuSI7rjjDn399ddq0qSJevbsqa1bt6pJkyaSpOeee05BQUG69dZbVVpaqqSkJC1cuNDz+lq1amnNmjWaMGGCEhISVLduXY0ePVqPPfaYz9dqc/typ8iPUH7ygL+XAASciq2r/b0EICCFDU4xH/Qj9L6ir8/myvoqw3zQTxAVCAAADALiJ+sAxyZKAABgGRUIAAAM+DhvcwQIAAAMCBDmCBAAABgEyP0FAY09EAAAwDIqEAAAGNDCMEeAAADAwF9PovwpoYUBAAAsowIBAIABmyjNESAAADBgD4Q5WhgAAMAyKhAAABjQwjBHgAAAwIAWhjlaGAAAwDIqEAAAGPAcCHMECAAADFzsgTBFgAAAwIAKhDn2QAAAAMuoQAAAYEALwxwBAgAAA1oY5mhhAAAAy6hAAABgQAvDHAECAAADWhjmaGEAAADLqEAAAGBAC8McAQIAAANaGOZoYQAAAMuoQAAAYOB2u/y9hIBHgAAAwMBFC8MUAQIAAAM3myhNsQcCAABYRgUCAAADWhjmCBAAABjQwjBHCwMAAFhGBQIAAAOeRGmOAAEAgAFPojRHCwMAAFhGBQIAAAM2UZojQAAAYMBtnOZoYQAAAMuoQAAAYEALwxwBAgAAA27jNEeAAADAgAqEOfZAAAAAy6hAAABgwF0Y5ggQAAAY0MIwRwsDAABYRgUCAAAD7sIwR4AAAMCAD9MyRwsDAABYRgUCAAADWhjmCBAAABhwF4Y5WhgAAMAyKhAAABiwidIcAQIAAANaGOYIEAAAGBAgzLEHAgAAWEYFAgAAA+oP5mxu6jT4ntLSUqWlpSk1NVV2u93fywECAn8ugAsRIOClqKhIEREROnPmjMLDw/29HCAg8OcCuBB7IAAAgGUECAAAYBkBAgAAWEaAgBe73a6ZM2eyUQz4Hv5cABdiEyUAALCMCgQAALCMAAEAACwjQAAAAMsIEAAAwDICBDwWLFigq666SrVr11Z8fLy2b9/u7yUBfpWVlaUhQ4YoNjZWNptNq1ev9veSgIBBgIAkaeXKlUpJSdHMmTP1r3/9S506dVJSUpKOHz/u76UBflNSUqJOnTppwYIF/l4KEHC4jROSpPj4eHXv3l0vvPCCJMnlcqlZs2aaNGmSfve73/l5dYD/2Ww2rVq1SsOHD/f3UoCAQAUCKisrU05OjhITEz3ngoKClJiYqOzsbD+uDAAQqAgQ0MmTJ1VZWano6Giv89HR0XI6nX5aFQAgkBEgAACAZQQIqHHjxqpVq5YKCgq8zhcUFMjhcPhpVQCAQEaAgEJDQxUXF6eMjAzPOZfLpYyMDCUkJPhxZQCAQBXs7wUgMKSkpGj06NHq1q2brr/+es2dO1clJSW69957/b00wG+Ki4u1f/9+z9d5eXnKzc1VZGSkrrzySj+uDPA/buOExwsvvKBnnnlGTqdTnTt31vz58xUfH+/vZQF+k5mZqT59+lxwfvTo0Vq6dOnlXxAQQAgQAADAMvZAAAAAywgQAADAMgIEAACwjAABAAAsI0AAAADLCBAAAMAyAgQAALCMAAEAACwjQAAAAMsIEAAAwDICBAAAsIwAAQAALPv/PZ6p/Nt415kAAAAASUVORK5CYII=\n"
          },
          "metadata": {}
        }
      ],
      "source": [
        "cf = confusion_matrix(pred,y_test)\n",
        "sns.heatmap(cf,annot = True, fmt = 'd')\n",
        "plt.show()"
      ]
    },
    {
      "cell_type": "markdown",
      "id": "ce079139-7023-41c2-9c45-9c88e5c52003",
      "metadata": {
        "id": "ce079139-7023-41c2-9c45-9c88e5c52003"
      },
      "source": [
        "Count Vetorize\n",
        "-"
      ]
    },
    {
      "cell_type": "code",
      "execution_count": 65,
      "id": "a50fa662-9cfd-411e-bb19-5b14e77b1b2c",
      "metadata": {
        "id": "a50fa662-9cfd-411e-bb19-5b14e77b1b2c",
        "outputId": "36a3bf1d-d0f3-4ed0-ac8a-78a661bf850a",
        "colab": {
          "base_uri": "https://localhost:8080/"
        }
      },
      "outputs": [
        {
          "output_type": "execute_result",
          "data": {
            "text/plain": [
              "0.7382427998541743"
            ]
          },
          "metadata": {},
          "execution_count": 65
        }
      ],
      "source": [
        "model = KNeighborsClassifier().fit(count_train,y_train)\n",
        "pred = model.predict(count_test)\n",
        "model.score(count_test,y_test)"
      ]
    },
    {
      "cell_type": "code",
      "execution_count": 66,
      "id": "d93cef60-108a-461a-9f6e-489a9e99487a",
      "metadata": {
        "id": "d93cef60-108a-461a-9f6e-489a9e99487a",
        "outputId": "d8bf8260-9974-47d5-cdb0-1bdd1e4ee8aa",
        "colab": {
          "base_uri": "https://localhost:8080/",
          "height": 435
        }
      },
      "outputs": [
        {
          "output_type": "display_data",
          "data": {
            "text/plain": [
              "<Figure size 640x480 with 2 Axes>"
            ],
            "image/png": "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\n"
          },
          "metadata": {}
        }
      ],
      "source": [
        "cf = confusion_matrix(pred,y_test)\n",
        "sns.heatmap(cf, annot = True, fmt = 'd')\n",
        "plt.show()"
      ]
    },
    {
      "cell_type": "code",
      "execution_count": 66,
      "id": "a2d25e6e-ca8b-409f-a342-c2cf5518ef8c",
      "metadata": {
        "id": "a2d25e6e-ca8b-409f-a342-c2cf5518ef8c"
      },
      "outputs": [],
      "source": []
    }
  ],
  "metadata": {
    "kernelspec": {
      "display_name": "Python 3",
      "name": "python3"
    },
    "language_info": {
      "codemirror_mode": {
        "name": "ipython",
        "version": 3
      },
      "file_extension": ".py",
      "mimetype": "text/x-python",
      "name": "python",
      "nbconvert_exporter": "python",
      "pygments_lexer": "ipython3",
      "version": "3.12.4"
    },
    "colab": {
      "provenance": [],
      "gpuType": "T4"
    },
    "accelerator": "GPU"
  },
  "nbformat": 4,
  "nbformat_minor": 5
}
